{
  "nbformat": 4,
  "nbformat_minor": 0,
  "metadata": {
    "kernelspec": {
      "display_name": "Python 3",
      "language": "python",
      "name": "python3"
    },
    "language_info": {
      "codemirror_mode": {
        "name": "ipython",
        "version": 3
      },
      "file_extension": ".py",
      "mimetype": "text/x-python",
      "name": "python",
      "nbconvert_exporter": "python",
      "pygments_lexer": "ipython3",
      "version": "3.8.3"
    },
    "colab": {
      "name": "Assignment 3: Notebook Submission.ipynb",
      "provenance": [],
      "collapsed_sections": [],
      "include_colab_link": true
    }
  },
  "cells": [
    {
      "cell_type": "markdown",
      "metadata": {
        "id": "view-in-github",
        "colab_type": "text"
      },
      "source": [
        "<a href=\"https://colab.research.google.com/github/maoki109/CancerDeathRate/blob/main/Assignment_3_Notebook_Submission.ipynb\" target=\"_parent\"><img src=\"https://colab.research.google.com/assets/colab-badge.svg\" alt=\"Open In Colab\"/></a>"
      ]
    },
    {
      "cell_type": "markdown",
      "metadata": {
        "id": "k9NvKH6zxnq8"
      },
      "source": [
        "Mari Aoki\n",
        "\n",
        "DPhi Machine Learning Bootcamp - Beginner\n",
        "\n",
        "Due: December 23, 2020 10:30 am"
      ]
    },
    {
      "cell_type": "markdown",
      "metadata": {
        "id": "kAkDHG6SaWBb"
      },
      "source": [
        "## Datathon-2: Notebook Submission\n",
        "This is a template for Assignment 3 of Machine Learning Bootcamp. Please make sure you perform all tasks within the sections created. This ensures that your assignment is evaluated correctly. \n",
        "\n",
        "https://dphi.tech/practice/challenge/52"
      ]
    },
    {
      "cell_type": "markdown",
      "metadata": {
        "id": "huMHzKSs0F-W"
      },
      "source": [
        "## Problem Statement\n",
        "\n",
        "Many aspects of the behaviour of cancer disease are highly unpredictable. Even with the huge number of studies that have been done on the DNA mutation responsible for the disease, we are still unable to use these information at clinical level. However, it is important that we understand the effects and impacts of this disease from the past information as much as we possibly can.\n",
        "\n",
        "## Objective\n",
        "\n",
        "You are required to build a machine learning  model that would predict the cancer death rate for the given year."
      ]
    },
    {
      "cell_type": "markdown",
      "metadata": {
        "id": "3TS_iDuCaWBc"
      },
      "source": [
        "## Task 1"
      ]
    },
    {
      "cell_type": "markdown",
      "metadata": {
        "id": "ads6yBtqaWBc"
      },
      "source": [
        "### Import Libraries"
      ]
    },
    {
      "cell_type": "code",
      "metadata": {
        "id": "0rGlRHBtaWBc"
      },
      "source": [
        "import pandas as pd\n",
        "import numpy as np\n",
        "\n",
        "# data visualizations libraries\n",
        "import matplotlib.pyplot as plt\n",
        "import seaborn as sns\n",
        "\n",
        "# To ignore warnings\n",
        "import warnings\n",
        "warnings.filterwarnings('ignore')\n",
        "\n",
        "# For Preprocessing, ML models and Evaluation\n",
        "# To split the dataset into train and test set\n",
        "from sklearn.model_selection import train_test_split  \n",
        "\n",
        "# Linear regression model\n",
        "from sklearn.linear_model import LinearRegression\n",
        "\n",
        "# Random Forest Regressor\n",
        "from sklearn.ensemble import RandomForestRegressor\n",
        "\n",
        "# Decsion Tree Regressor\n",
        "from sklearn.tree import DecisionTreeRegressor\n",
        "\n",
        "# for model evaluation\n",
        "from sklearn.metrics import f1_score  \n",
        "from sklearn.metrics import mean_squared_error, r2_score\n",
        "from sklearn import metrics  \n",
        "\n",
        "# Accuracy score\n",
        "from sklearn.metrics import accuracy_score"
      ],
      "execution_count": null,
      "outputs": []
    },
    {
      "cell_type": "markdown",
      "metadata": {
        "id": "rEEA8eZRaWBd"
      },
      "source": [
        "### Load the data and display first 5 rows."
      ]
    },
    {
      "cell_type": "code",
      "metadata": {
        "id": "mF3Qi2tyaWBd",
        "colab": {
          "base_uri": "https://localhost:8080/",
          "height": 411
        },
        "outputId": "d7999d01-86d9-4ef3-b35d-8a7819110dd1"
      },
      "source": [
        "cancer_data  = pd.read_csv(\"https://raw.githubusercontent.com/dphi-official/Datasets/master/cancer_death_rate/Training_set_label.csv\" )\n",
        "cancer_data.head()"
      ],
      "execution_count": null,
      "outputs": [
        {
          "output_type": "execute_result",
          "data": {
            "text/html": [
              "<div>\n",
              "<style scoped>\n",
              "    .dataframe tbody tr th:only-of-type {\n",
              "        vertical-align: middle;\n",
              "    }\n",
              "\n",
              "    .dataframe tbody tr th {\n",
              "        vertical-align: top;\n",
              "    }\n",
              "\n",
              "    .dataframe thead th {\n",
              "        text-align: right;\n",
              "    }\n",
              "</style>\n",
              "<table border=\"1\" class=\"dataframe\">\n",
              "  <thead>\n",
              "    <tr style=\"text-align: right;\">\n",
              "      <th></th>\n",
              "      <th>avgAnnCount</th>\n",
              "      <th>avgDeathsPerYear</th>\n",
              "      <th>incidenceRate</th>\n",
              "      <th>medIncome</th>\n",
              "      <th>popEst2015</th>\n",
              "      <th>povertyPercent</th>\n",
              "      <th>studyPerCap</th>\n",
              "      <th>binnedInc</th>\n",
              "      <th>MedianAge</th>\n",
              "      <th>MedianAgeMale</th>\n",
              "      <th>MedianAgeFemale</th>\n",
              "      <th>Geography</th>\n",
              "      <th>AvgHouseholdSize</th>\n",
              "      <th>PercentMarried</th>\n",
              "      <th>PctNoHS18_24</th>\n",
              "      <th>PctHS18_24</th>\n",
              "      <th>PctSomeCol18_24</th>\n",
              "      <th>PctBachDeg18_24</th>\n",
              "      <th>PctHS25_Over</th>\n",
              "      <th>PctBachDeg25_Over</th>\n",
              "      <th>PctEmployed16_Over</th>\n",
              "      <th>PctUnemployed16_Over</th>\n",
              "      <th>PctPrivateCoverage</th>\n",
              "      <th>PctPrivateCoverageAlone</th>\n",
              "      <th>PctEmpPrivCoverage</th>\n",
              "      <th>PctPublicCoverage</th>\n",
              "      <th>PctPublicCoverageAlone</th>\n",
              "      <th>PctWhite</th>\n",
              "      <th>PctBlack</th>\n",
              "      <th>PctAsian</th>\n",
              "      <th>PctOtherRace</th>\n",
              "      <th>PctMarriedHouseholds</th>\n",
              "      <th>BirthRate</th>\n",
              "      <th>TARGET_deathRate</th>\n",
              "    </tr>\n",
              "  </thead>\n",
              "  <tbody>\n",
              "    <tr>\n",
              "      <th>0</th>\n",
              "      <td>19.0</td>\n",
              "      <td>8</td>\n",
              "      <td>481.5</td>\n",
              "      <td>50038</td>\n",
              "      <td>2704</td>\n",
              "      <td>11.1</td>\n",
              "      <td>0.0</td>\n",
              "      <td>(48021.6, 51046.4]</td>\n",
              "      <td>48.4</td>\n",
              "      <td>49.6</td>\n",
              "      <td>46.4</td>\n",
              "      <td>Hettinger County, North Dakota</td>\n",
              "      <td>2.25</td>\n",
              "      <td>65.9</td>\n",
              "      <td>10.8</td>\n",
              "      <td>25.0</td>\n",
              "      <td>57.4</td>\n",
              "      <td>6.8</td>\n",
              "      <td>37.1</td>\n",
              "      <td>12.2</td>\n",
              "      <td>57.4</td>\n",
              "      <td>1.1</td>\n",
              "      <td>81.2</td>\n",
              "      <td>56.0</td>\n",
              "      <td>35.7</td>\n",
              "      <td>34.7</td>\n",
              "      <td>9.9</td>\n",
              "      <td>96.032049</td>\n",
              "      <td>0.724914</td>\n",
              "      <td>0.000000</td>\n",
              "      <td>0.000000</td>\n",
              "      <td>62.511457</td>\n",
              "      <td>15.157116</td>\n",
              "      <td>160.3</td>\n",
              "    </tr>\n",
              "    <tr>\n",
              "      <th>1</th>\n",
              "      <td>88.0</td>\n",
              "      <td>34</td>\n",
              "      <td>486.0</td>\n",
              "      <td>59399</td>\n",
              "      <td>14844</td>\n",
              "      <td>9.7</td>\n",
              "      <td>0.0</td>\n",
              "      <td>(54545.6, 61494.5]</td>\n",
              "      <td>41.9</td>\n",
              "      <td>41.3</td>\n",
              "      <td>43.2</td>\n",
              "      <td>Mills County, Iowa</td>\n",
              "      <td>2.63</td>\n",
              "      <td>58.6</td>\n",
              "      <td>22.3</td>\n",
              "      <td>29.1</td>\n",
              "      <td>NaN</td>\n",
              "      <td>1.1</td>\n",
              "      <td>35.9</td>\n",
              "      <td>16.0</td>\n",
              "      <td>60.4</td>\n",
              "      <td>3.8</td>\n",
              "      <td>76.7</td>\n",
              "      <td>NaN</td>\n",
              "      <td>50.8</td>\n",
              "      <td>32.1</td>\n",
              "      <td>12.8</td>\n",
              "      <td>97.537344</td>\n",
              "      <td>0.719957</td>\n",
              "      <td>0.080743</td>\n",
              "      <td>0.040371</td>\n",
              "      <td>61.641045</td>\n",
              "      <td>3.293510</td>\n",
              "      <td>194.9</td>\n",
              "    </tr>\n",
              "    <tr>\n",
              "      <th>2</th>\n",
              "      <td>195.0</td>\n",
              "      <td>83</td>\n",
              "      <td>475.7</td>\n",
              "      <td>39721</td>\n",
              "      <td>25164</td>\n",
              "      <td>18.5</td>\n",
              "      <td>0.0</td>\n",
              "      <td>(37413.8, 40362.7]</td>\n",
              "      <td>48.9</td>\n",
              "      <td>47.9</td>\n",
              "      <td>49.9</td>\n",
              "      <td>Gladwin County, Michigan</td>\n",
              "      <td>2.30</td>\n",
              "      <td>57.2</td>\n",
              "      <td>24.9</td>\n",
              "      <td>36.2</td>\n",
              "      <td>NaN</td>\n",
              "      <td>3.5</td>\n",
              "      <td>40.2</td>\n",
              "      <td>7.6</td>\n",
              "      <td>41.2</td>\n",
              "      <td>11.0</td>\n",
              "      <td>61.6</td>\n",
              "      <td>NaN</td>\n",
              "      <td>32.1</td>\n",
              "      <td>49.8</td>\n",
              "      <td>21.6</td>\n",
              "      <td>97.576566</td>\n",
              "      <td>0.360770</td>\n",
              "      <td>0.411749</td>\n",
              "      <td>0.082350</td>\n",
              "      <td>53.978102</td>\n",
              "      <td>6.390328</td>\n",
              "      <td>196.5</td>\n",
              "    </tr>\n",
              "    <tr>\n",
              "      <th>3</th>\n",
              "      <td>116.0</td>\n",
              "      <td>55</td>\n",
              "      <td>496.6</td>\n",
              "      <td>30299</td>\n",
              "      <td>17917</td>\n",
              "      <td>28.1</td>\n",
              "      <td>0.0</td>\n",
              "      <td>[22640, 34218.1]</td>\n",
              "      <td>44.2</td>\n",
              "      <td>42.7</td>\n",
              "      <td>45.2</td>\n",
              "      <td>Fentress County, Tennessee</td>\n",
              "      <td>2.43</td>\n",
              "      <td>53.0</td>\n",
              "      <td>10.9</td>\n",
              "      <td>51.8</td>\n",
              "      <td>NaN</td>\n",
              "      <td>5.3</td>\n",
              "      <td>44.2</td>\n",
              "      <td>7.0</td>\n",
              "      <td>41.6</td>\n",
              "      <td>10.4</td>\n",
              "      <td>45.2</td>\n",
              "      <td>NaN</td>\n",
              "      <td>24.2</td>\n",
              "      <td>53.2</td>\n",
              "      <td>33.0</td>\n",
              "      <td>97.908650</td>\n",
              "      <td>0.161731</td>\n",
              "      <td>0.306731</td>\n",
              "      <td>0.340193</td>\n",
              "      <td>51.013143</td>\n",
              "      <td>5.124836</td>\n",
              "      <td>230.9</td>\n",
              "    </tr>\n",
              "    <tr>\n",
              "      <th>4</th>\n",
              "      <td>80.0</td>\n",
              "      <td>35</td>\n",
              "      <td>372.0</td>\n",
              "      <td>39625</td>\n",
              "      <td>14058</td>\n",
              "      <td>17.4</td>\n",
              "      <td>0.0</td>\n",
              "      <td>(37413.8, 40362.7]</td>\n",
              "      <td>45.0</td>\n",
              "      <td>42.2</td>\n",
              "      <td>48.0</td>\n",
              "      <td>Las Animas County, Colorado</td>\n",
              "      <td>2.36</td>\n",
              "      <td>52.2</td>\n",
              "      <td>12.6</td>\n",
              "      <td>31.2</td>\n",
              "      <td>NaN</td>\n",
              "      <td>0.2</td>\n",
              "      <td>28.3</td>\n",
              "      <td>10.5</td>\n",
              "      <td>49.3</td>\n",
              "      <td>9.2</td>\n",
              "      <td>56.6</td>\n",
              "      <td>NaN</td>\n",
              "      <td>33.4</td>\n",
              "      <td>43.0</td>\n",
              "      <td>24.7</td>\n",
              "      <td>82.672551</td>\n",
              "      <td>1.834103</td>\n",
              "      <td>0.682617</td>\n",
              "      <td>8.253465</td>\n",
              "      <td>50.566426</td>\n",
              "      <td>3.897033</td>\n",
              "      <td>162.2</td>\n",
              "    </tr>\n",
              "  </tbody>\n",
              "</table>\n",
              "</div>"
            ],
            "text/plain": [
              "   avgAnnCount  avgDeathsPerYear  ...  BirthRate  TARGET_deathRate\n",
              "0         19.0                 8  ...  15.157116             160.3\n",
              "1         88.0                34  ...   3.293510             194.9\n",
              "2        195.0                83  ...   6.390328             196.5\n",
              "3        116.0                55  ...   5.124836             230.9\n",
              "4         80.0                35  ...   3.897033             162.2\n",
              "\n",
              "[5 rows x 34 columns]"
            ]
          },
          "metadata": {
            "tags": []
          },
          "execution_count": 2
        }
      ]
    },
    {
      "cell_type": "markdown",
      "metadata": {
        "id": "RHVlzyz6aWBd"
      },
      "source": [
        "### Perform Exploratory Data Analysis"
      ]
    },
    {
      "cell_type": "code",
      "metadata": {
        "id": "pNC0AQc6aWBd",
        "colab": {
          "base_uri": "https://localhost:8080/"
        },
        "outputId": "36166a22-d45e-4a74-d276-ffcfd50b8649"
      },
      "source": [
        "cancer_data.columns"
      ],
      "execution_count": null,
      "outputs": [
        {
          "output_type": "execute_result",
          "data": {
            "text/plain": [
              "Index(['avgAnnCount', 'avgDeathsPerYear', 'incidenceRate', 'medIncome',\n",
              "       'popEst2015', 'povertyPercent', 'studyPerCap', 'binnedInc', 'MedianAge',\n",
              "       'MedianAgeMale', 'MedianAgeFemale', 'Geography', 'AvgHouseholdSize',\n",
              "       'PercentMarried', 'PctNoHS18_24', 'PctHS18_24', 'PctSomeCol18_24',\n",
              "       'PctBachDeg18_24', 'PctHS25_Over', 'PctBachDeg25_Over',\n",
              "       'PctEmployed16_Over', 'PctUnemployed16_Over', 'PctPrivateCoverage',\n",
              "       'PctPrivateCoverageAlone', 'PctEmpPrivCoverage', 'PctPublicCoverage',\n",
              "       'PctPublicCoverageAlone', 'PctWhite', 'PctBlack', 'PctAsian',\n",
              "       'PctOtherRace', 'PctMarriedHouseholds', 'BirthRate',\n",
              "       'TARGET_deathRate'],\n",
              "      dtype='object')"
            ]
          },
          "metadata": {
            "tags": []
          },
          "execution_count": 3
        }
      ]
    },
    {
      "cell_type": "code",
      "metadata": {
        "colab": {
          "base_uri": "https://localhost:8080/"
        },
        "id": "W7buy_Dx1TP0",
        "outputId": "4781fc2b-0e7b-410c-bb7c-ae1e17b3c00b"
      },
      "source": [
        "cancer_data.info()"
      ],
      "execution_count": null,
      "outputs": [
        {
          "output_type": "stream",
          "text": [
            "<class 'pandas.core.frame.DataFrame'>\n",
            "RangeIndex: 3051 entries, 0 to 3050\n",
            "Data columns (total 32 columns):\n",
            " #   Column                   Non-Null Count  Dtype  \n",
            "---  ------                   --------------  -----  \n",
            " 0   avgAnnCount              3051 non-null   float64\n",
            " 1   avgDeathsPerYear         3051 non-null   int64  \n",
            " 2   incidenceRate            3051 non-null   float64\n",
            " 3   medIncome                3051 non-null   int64  \n",
            " 4   popEst2015               3051 non-null   int64  \n",
            " 5   povertyPercent           3051 non-null   float64\n",
            " 6   studyPerCap              3051 non-null   float64\n",
            " 7   MedianAge                3051 non-null   float64\n",
            " 8   MedianAgeMale            3051 non-null   float64\n",
            " 9   MedianAgeFemale          3051 non-null   float64\n",
            " 10  AvgHouseholdSize         3051 non-null   float64\n",
            " 11  PercentMarried           3051 non-null   float64\n",
            " 12  PctNoHS18_24             3051 non-null   float64\n",
            " 13  PctHS18_24               3051 non-null   float64\n",
            " 14  PctSomeCol18_24          3051 non-null   float64\n",
            " 15  PctBachDeg18_24          3051 non-null   float64\n",
            " 16  PctHS25_Over             3051 non-null   float64\n",
            " 17  PctBachDeg25_Over        3051 non-null   float64\n",
            " 18  PctEmployed16_Over       3051 non-null   float64\n",
            " 19  PctUnemployed16_Over     3051 non-null   float64\n",
            " 20  PctPrivateCoverage       3051 non-null   float64\n",
            " 21  PctPrivateCoverageAlone  3051 non-null   float64\n",
            " 22  PctEmpPrivCoverage       3051 non-null   float64\n",
            " 23  PctPublicCoverage        3051 non-null   float64\n",
            " 24  PctPublicCoverageAlone   3051 non-null   float64\n",
            " 25  PctWhite                 3051 non-null   float64\n",
            " 26  PctBlack                 3051 non-null   float64\n",
            " 27  PctAsian                 3051 non-null   float64\n",
            " 28  PctOtherRace             3051 non-null   float64\n",
            " 29  PctMarriedHouseholds     3051 non-null   float64\n",
            " 30  BirthRate                3051 non-null   float64\n",
            " 31  TARGET_deathRate         3051 non-null   float64\n",
            "dtypes: float64(29), int64(3)\n",
            "memory usage: 762.9 KB\n"
          ],
          "name": "stdout"
        }
      ]
    },
    {
      "cell_type": "markdown",
      "metadata": {
        "id": "Nd9KPw0zs50B"
      },
      "source": [
        "Look for and remove extra duplicates."
      ]
    },
    {
      "cell_type": "code",
      "metadata": {
        "colab": {
          "base_uri": "https://localhost:8080/"
        },
        "id": "yRbm7qVNsBET",
        "outputId": "957454c5-b610-4a66-c382-ac2591f41050"
      },
      "source": [
        "cancer_data.duplicated().sum()"
      ],
      "execution_count": null,
      "outputs": [
        {
          "output_type": "execute_result",
          "data": {
            "text/plain": [
              "766"
            ]
          },
          "metadata": {
            "tags": []
          },
          "execution_count": 111
        }
      ]
    },
    {
      "cell_type": "code",
      "metadata": {
        "id": "d4M-1j1wsMFl"
      },
      "source": [
        "cancer_data.drop_duplicates(keep='first', inplace=True)"
      ],
      "execution_count": null,
      "outputs": []
    },
    {
      "cell_type": "code",
      "metadata": {
        "colab": {
          "base_uri": "https://localhost:8080/"
        },
        "id": "VuwuhfJKskLP",
        "outputId": "f89664c3-d03c-4de3-ae87-24e68d12f07f"
      },
      "source": [
        "cancer_data.info()"
      ],
      "execution_count": null,
      "outputs": [
        {
          "output_type": "stream",
          "text": [
            "<class 'pandas.core.frame.DataFrame'>\n",
            "Int64Index: 2285 entries, 0 to 2284\n",
            "Data columns (total 32 columns):\n",
            " #   Column                   Non-Null Count  Dtype  \n",
            "---  ------                   --------------  -----  \n",
            " 0   avgAnnCount              2285 non-null   float64\n",
            " 1   avgDeathsPerYear         2285 non-null   int64  \n",
            " 2   incidenceRate            2285 non-null   float64\n",
            " 3   medIncome                2285 non-null   int64  \n",
            " 4   popEst2015               2285 non-null   int64  \n",
            " 5   povertyPercent           2285 non-null   float64\n",
            " 6   studyPerCap              2285 non-null   float64\n",
            " 7   MedianAge                2285 non-null   float64\n",
            " 8   MedianAgeMale            2285 non-null   float64\n",
            " 9   MedianAgeFemale          2285 non-null   float64\n",
            " 10  AvgHouseholdSize         2285 non-null   float64\n",
            " 11  PercentMarried           2285 non-null   float64\n",
            " 12  PctNoHS18_24             2285 non-null   float64\n",
            " 13  PctHS18_24               2285 non-null   float64\n",
            " 14  PctSomeCol18_24          2285 non-null   float64\n",
            " 15  PctBachDeg18_24          2285 non-null   float64\n",
            " 16  PctHS25_Over             2285 non-null   float64\n",
            " 17  PctBachDeg25_Over        2285 non-null   float64\n",
            " 18  PctEmployed16_Over       2285 non-null   float64\n",
            " 19  PctUnemployed16_Over     2285 non-null   float64\n",
            " 20  PctPrivateCoverage       2285 non-null   float64\n",
            " 21  PctPrivateCoverageAlone  2285 non-null   float64\n",
            " 22  PctEmpPrivCoverage       2285 non-null   float64\n",
            " 23  PctPublicCoverage        2285 non-null   float64\n",
            " 24  PctPublicCoverageAlone   2285 non-null   float64\n",
            " 25  PctWhite                 2285 non-null   float64\n",
            " 26  PctBlack                 2285 non-null   float64\n",
            " 27  PctAsian                 2285 non-null   float64\n",
            " 28  PctOtherRace             2285 non-null   float64\n",
            " 29  PctMarriedHouseholds     2285 non-null   float64\n",
            " 30  BirthRate                2285 non-null   float64\n",
            " 31  TARGET_deathRate         2285 non-null   float64\n",
            "dtypes: float64(29), int64(3)\n",
            "memory usage: 589.1 KB\n"
          ],
          "name": "stdout"
        }
      ]
    },
    {
      "cell_type": "code",
      "metadata": {
        "colab": {
          "base_uri": "https://localhost:8080/"
        },
        "id": "HHz6ozA-VaXk",
        "outputId": "2bb82864-abc9-4a00-e300-4803d9d83efa"
      },
      "source": [
        "cancer_data['binnedInc']"
      ],
      "execution_count": null,
      "outputs": [
        {
          "output_type": "execute_result",
          "data": {
            "text/plain": [
              "0       (48021.6, 51046.4]\n",
              "1       (54545.6, 61494.5]\n",
              "2       (37413.8, 40362.7]\n",
              "3         [22640, 34218.1]\n",
              "4       (37413.8, 40362.7]\n",
              "               ...        \n",
              "3046    (34218.1, 37413.8]\n",
              "3047    (37413.8, 40362.7]\n",
              "3048    (51046.4, 54545.6]\n",
              "3049    (40362.7, 42724.4]\n",
              "3050      [22640, 34218.1]\n",
              "Name: binnedInc, Length: 3051, dtype: object"
            ]
          },
          "metadata": {
            "tags": []
          },
          "execution_count": 5
        }
      ]
    },
    {
      "cell_type": "code",
      "metadata": {
        "colab": {
          "base_uri": "https://localhost:8080/"
        },
        "id": "WaLUCEgpVhch",
        "outputId": "73dec1e1-3d18-4fa4-bf30-b6f6774da65e"
      },
      "source": [
        "cancer_data['Geography']"
      ],
      "execution_count": null,
      "outputs": [
        {
          "output_type": "execute_result",
          "data": {
            "text/plain": [
              "0       Hettinger County, North Dakota\n",
              "1                   Mills County, Iowa\n",
              "2             Gladwin County, Michigan\n",
              "3           Fentress County, Tennessee\n",
              "4          Las Animas County, Colorado\n",
              "                     ...              \n",
              "3046       Montgomery County, Arkansas\n",
              "3047             Todd County, Kentucky\n",
              "3048               Ness County, Kansas\n",
              "3049         Gilchrist County, Florida\n",
              "3050           Oregon County, Missouri\n",
              "Name: Geography, Length: 3051, dtype: object"
            ]
          },
          "metadata": {
            "tags": []
          },
          "execution_count": 6
        }
      ]
    },
    {
      "cell_type": "code",
      "metadata": {
        "colab": {
          "base_uri": "https://localhost:8080/",
          "height": 317
        },
        "id": "GVx4hOj21Yqc",
        "outputId": "63c8ea3f-f449-45af-accf-21426507299b"
      },
      "source": [
        "cancer_data.describe()"
      ],
      "execution_count": null,
      "outputs": [
        {
          "output_type": "execute_result",
          "data": {
            "text/html": [
              "<div>\n",
              "<style scoped>\n",
              "    .dataframe tbody tr th:only-of-type {\n",
              "        vertical-align: middle;\n",
              "    }\n",
              "\n",
              "    .dataframe tbody tr th {\n",
              "        vertical-align: top;\n",
              "    }\n",
              "\n",
              "    .dataframe thead th {\n",
              "        text-align: right;\n",
              "    }\n",
              "</style>\n",
              "<table border=\"1\" class=\"dataframe\">\n",
              "  <thead>\n",
              "    <tr style=\"text-align: right;\">\n",
              "      <th></th>\n",
              "      <th>avgAnnCount</th>\n",
              "      <th>avgDeathsPerYear</th>\n",
              "      <th>incidenceRate</th>\n",
              "      <th>medIncome</th>\n",
              "      <th>popEst2015</th>\n",
              "      <th>povertyPercent</th>\n",
              "      <th>studyPerCap</th>\n",
              "      <th>MedianAge</th>\n",
              "      <th>MedianAgeMale</th>\n",
              "      <th>MedianAgeFemale</th>\n",
              "      <th>AvgHouseholdSize</th>\n",
              "      <th>PercentMarried</th>\n",
              "      <th>PctNoHS18_24</th>\n",
              "      <th>PctHS18_24</th>\n",
              "      <th>PctSomeCol18_24</th>\n",
              "      <th>PctBachDeg18_24</th>\n",
              "      <th>PctHS25_Over</th>\n",
              "      <th>PctBachDeg25_Over</th>\n",
              "      <th>PctEmployed16_Over</th>\n",
              "      <th>PctUnemployed16_Over</th>\n",
              "      <th>PctPrivateCoverage</th>\n",
              "      <th>PctPrivateCoverageAlone</th>\n",
              "      <th>PctEmpPrivCoverage</th>\n",
              "      <th>PctPublicCoverage</th>\n",
              "      <th>PctPublicCoverageAlone</th>\n",
              "      <th>PctWhite</th>\n",
              "      <th>PctBlack</th>\n",
              "      <th>PctAsian</th>\n",
              "      <th>PctOtherRace</th>\n",
              "      <th>PctMarriedHouseholds</th>\n",
              "      <th>BirthRate</th>\n",
              "      <th>TARGET_deathRate</th>\n",
              "    </tr>\n",
              "  </thead>\n",
              "  <tbody>\n",
              "    <tr>\n",
              "      <th>count</th>\n",
              "      <td>3051.000000</td>\n",
              "      <td>3051.000000</td>\n",
              "      <td>3051.000000</td>\n",
              "      <td>3051.000000</td>\n",
              "      <td>3.051000e+03</td>\n",
              "      <td>3051.000000</td>\n",
              "      <td>3051.000000</td>\n",
              "      <td>3051.000000</td>\n",
              "      <td>3051.000000</td>\n",
              "      <td>3051.000000</td>\n",
              "      <td>3051.000000</td>\n",
              "      <td>3051.000000</td>\n",
              "      <td>3051.000000</td>\n",
              "      <td>3051.000000</td>\n",
              "      <td>785.000000</td>\n",
              "      <td>3051.000000</td>\n",
              "      <td>3051.000000</td>\n",
              "      <td>3051.000000</td>\n",
              "      <td>2899.000000</td>\n",
              "      <td>3051.000000</td>\n",
              "      <td>3051.000000</td>\n",
              "      <td>2447.000000</td>\n",
              "      <td>3051.000000</td>\n",
              "      <td>3051.000000</td>\n",
              "      <td>3051.000000</td>\n",
              "      <td>3051.000000</td>\n",
              "      <td>3051.000000</td>\n",
              "      <td>3051.000000</td>\n",
              "      <td>3051.000000</td>\n",
              "      <td>3051.000000</td>\n",
              "      <td>3051.000000</td>\n",
              "      <td>3051.000000</td>\n",
              "    </tr>\n",
              "    <tr>\n",
              "      <th>mean</th>\n",
              "      <td>570.668154</td>\n",
              "      <td>176.000983</td>\n",
              "      <td>449.007042</td>\n",
              "      <td>46902.917076</td>\n",
              "      <td>9.495799e+04</td>\n",
              "      <td>16.880367</td>\n",
              "      <td>158.695936</td>\n",
              "      <td>44.303540</td>\n",
              "      <td>39.600885</td>\n",
              "      <td>42.234579</td>\n",
              "      <td>2.473048</td>\n",
              "      <td>51.885480</td>\n",
              "      <td>18.225139</td>\n",
              "      <td>34.920190</td>\n",
              "      <td>41.247898</td>\n",
              "      <td>6.131957</td>\n",
              "      <td>34.909440</td>\n",
              "      <td>13.212750</td>\n",
              "      <td>54.115626</td>\n",
              "      <td>7.841069</td>\n",
              "      <td>64.519338</td>\n",
              "      <td>48.573314</td>\n",
              "      <td>41.342347</td>\n",
              "      <td>36.287545</td>\n",
              "      <td>19.198820</td>\n",
              "      <td>84.005243</td>\n",
              "      <td>9.166570</td>\n",
              "      <td>1.198561</td>\n",
              "      <td>1.864829</td>\n",
              "      <td>51.355837</td>\n",
              "      <td>5.608851</td>\n",
              "      <td>178.909767</td>\n",
              "    </tr>\n",
              "    <tr>\n",
              "      <th>std</th>\n",
              "      <td>1250.546532</td>\n",
              "      <td>445.042777</td>\n",
              "      <td>52.886386</td>\n",
              "      <td>11902.460659</td>\n",
              "      <td>2.761007e+05</td>\n",
              "      <td>6.340462</td>\n",
              "      <td>544.035590</td>\n",
              "      <td>38.704107</td>\n",
              "      <td>5.177629</td>\n",
              "      <td>5.253474</td>\n",
              "      <td>0.429926</td>\n",
              "      <td>6.812846</td>\n",
              "      <td>8.105799</td>\n",
              "      <td>9.021475</td>\n",
              "      <td>11.107006</td>\n",
              "      <td>4.552222</td>\n",
              "      <td>7.015728</td>\n",
              "      <td>5.360342</td>\n",
              "      <td>8.267656</td>\n",
              "      <td>3.454863</td>\n",
              "      <td>10.511932</td>\n",
              "      <td>10.011218</td>\n",
              "      <td>9.327793</td>\n",
              "      <td>7.748442</td>\n",
              "      <td>6.023164</td>\n",
              "      <td>16.126982</td>\n",
              "      <td>14.676772</td>\n",
              "      <td>2.369931</td>\n",
              "      <td>3.235204</td>\n",
              "      <td>6.524964</td>\n",
              "      <td>1.955201</td>\n",
              "      <td>27.570075</td>\n",
              "    </tr>\n",
              "    <tr>\n",
              "      <th>min</th>\n",
              "      <td>6.000000</td>\n",
              "      <td>3.000000</td>\n",
              "      <td>211.100000</td>\n",
              "      <td>22640.000000</td>\n",
              "      <td>8.270000e+02</td>\n",
              "      <td>3.200000</td>\n",
              "      <td>0.000000</td>\n",
              "      <td>22.300000</td>\n",
              "      <td>22.400000</td>\n",
              "      <td>22.300000</td>\n",
              "      <td>0.022100</td>\n",
              "      <td>25.100000</td>\n",
              "      <td>0.000000</td>\n",
              "      <td>0.000000</td>\n",
              "      <td>7.100000</td>\n",
              "      <td>0.000000</td>\n",
              "      <td>7.500000</td>\n",
              "      <td>3.200000</td>\n",
              "      <td>17.600000</td>\n",
              "      <td>0.400000</td>\n",
              "      <td>23.400000</td>\n",
              "      <td>16.800000</td>\n",
              "      <td>14.300000</td>\n",
              "      <td>11.800000</td>\n",
              "      <td>2.600000</td>\n",
              "      <td>11.008762</td>\n",
              "      <td>0.000000</td>\n",
              "      <td>0.000000</td>\n",
              "      <td>0.000000</td>\n",
              "      <td>23.915652</td>\n",
              "      <td>0.000000</td>\n",
              "      <td>66.300000</td>\n",
              "    </tr>\n",
              "    <tr>\n",
              "      <th>25%</th>\n",
              "      <td>80.000000</td>\n",
              "      <td>29.000000</td>\n",
              "      <td>421.800000</td>\n",
              "      <td>38752.000000</td>\n",
              "      <td>1.236850e+04</td>\n",
              "      <td>12.200000</td>\n",
              "      <td>0.000000</td>\n",
              "      <td>37.900000</td>\n",
              "      <td>36.400000</td>\n",
              "      <td>39.200000</td>\n",
              "      <td>2.370000</td>\n",
              "      <td>47.800000</td>\n",
              "      <td>12.800000</td>\n",
              "      <td>29.300000</td>\n",
              "      <td>34.000000</td>\n",
              "      <td>3.100000</td>\n",
              "      <td>30.650000</td>\n",
              "      <td>9.300000</td>\n",
              "      <td>48.600000</td>\n",
              "      <td>5.500000</td>\n",
              "      <td>57.500000</td>\n",
              "      <td>41.300000</td>\n",
              "      <td>34.700000</td>\n",
              "      <td>31.000000</td>\n",
              "      <td>14.900000</td>\n",
              "      <td>78.012571</td>\n",
              "      <td>0.616576</td>\n",
              "      <td>0.261748</td>\n",
              "      <td>0.282825</td>\n",
              "      <td>47.736828</td>\n",
              "      <td>4.499936</td>\n",
              "      <td>161.400000</td>\n",
              "    </tr>\n",
              "    <tr>\n",
              "      <th>50%</th>\n",
              "      <td>171.000000</td>\n",
              "      <td>62.000000</td>\n",
              "      <td>453.549422</td>\n",
              "      <td>45098.000000</td>\n",
              "      <td>2.677700e+04</td>\n",
              "      <td>15.900000</td>\n",
              "      <td>0.000000</td>\n",
              "      <td>41.000000</td>\n",
              "      <td>39.500000</td>\n",
              "      <td>42.400000</td>\n",
              "      <td>2.500000</td>\n",
              "      <td>52.500000</td>\n",
              "      <td>17.200000</td>\n",
              "      <td>34.700000</td>\n",
              "      <td>41.000000</td>\n",
              "      <td>5.300000</td>\n",
              "      <td>35.400000</td>\n",
              "      <td>12.300000</td>\n",
              "      <td>54.400000</td>\n",
              "      <td>7.600000</td>\n",
              "      <td>65.300000</td>\n",
              "      <td>48.700000</td>\n",
              "      <td>41.300000</td>\n",
              "      <td>36.300000</td>\n",
              "      <td>18.800000</td>\n",
              "      <td>90.318790</td>\n",
              "      <td>2.276756</td>\n",
              "      <td>0.557031</td>\n",
              "      <td>0.791571</td>\n",
              "      <td>51.757925</td>\n",
              "      <td>5.384471</td>\n",
              "      <td>178.300000</td>\n",
              "    </tr>\n",
              "    <tr>\n",
              "      <th>75%</th>\n",
              "      <td>508.000000</td>\n",
              "      <td>148.000000</td>\n",
              "      <td>481.300000</td>\n",
              "      <td>52410.500000</td>\n",
              "      <td>6.853600e+04</td>\n",
              "      <td>20.400000</td>\n",
              "      <td>86.581336</td>\n",
              "      <td>43.900000</td>\n",
              "      <td>42.500000</td>\n",
              "      <td>45.300000</td>\n",
              "      <td>2.630000</td>\n",
              "      <td>56.500000</td>\n",
              "      <td>22.600000</td>\n",
              "      <td>40.700000</td>\n",
              "      <td>46.900000</td>\n",
              "      <td>8.100000</td>\n",
              "      <td>39.700000</td>\n",
              "      <td>16.100000</td>\n",
              "      <td>60.300000</td>\n",
              "      <td>9.700000</td>\n",
              "      <td>72.200000</td>\n",
              "      <td>55.700000</td>\n",
              "      <td>47.700000</td>\n",
              "      <td>41.400000</td>\n",
              "      <td>23.000000</td>\n",
              "      <td>95.577396</td>\n",
              "      <td>10.326954</td>\n",
              "      <td>1.189955</td>\n",
              "      <td>2.080241</td>\n",
              "      <td>55.465803</td>\n",
              "      <td>6.473896</td>\n",
              "      <td>195.500000</td>\n",
              "    </tr>\n",
              "    <tr>\n",
              "      <th>max</th>\n",
              "      <td>24965.000000</td>\n",
              "      <td>9445.000000</td>\n",
              "      <td>1206.900000</td>\n",
              "      <td>125635.000000</td>\n",
              "      <td>5.238216e+06</td>\n",
              "      <td>47.000000</td>\n",
              "      <td>9762.308998</td>\n",
              "      <td>525.600000</td>\n",
              "      <td>64.700000</td>\n",
              "      <td>65.700000</td>\n",
              "      <td>3.930000</td>\n",
              "      <td>72.500000</td>\n",
              "      <td>64.100000</td>\n",
              "      <td>72.500000</td>\n",
              "      <td>79.000000</td>\n",
              "      <td>51.800000</td>\n",
              "      <td>54.800000</td>\n",
              "      <td>40.400000</td>\n",
              "      <td>76.500000</td>\n",
              "      <td>29.400000</td>\n",
              "      <td>92.300000</td>\n",
              "      <td>78.900000</td>\n",
              "      <td>70.700000</td>\n",
              "      <td>65.100000</td>\n",
              "      <td>46.600000</td>\n",
              "      <td>100.000000</td>\n",
              "      <td>84.866024</td>\n",
              "      <td>35.640183</td>\n",
              "      <td>38.743747</td>\n",
              "      <td>71.703057</td>\n",
              "      <td>21.326165</td>\n",
              "      <td>362.800000</td>\n",
              "    </tr>\n",
              "  </tbody>\n",
              "</table>\n",
              "</div>"
            ],
            "text/plain": [
              "        avgAnnCount  avgDeathsPerYear  ...    BirthRate  TARGET_deathRate\n",
              "count   3051.000000       3051.000000  ...  3051.000000       3051.000000\n",
              "mean     570.668154        176.000983  ...     5.608851        178.909767\n",
              "std     1250.546532        445.042777  ...     1.955201         27.570075\n",
              "min        6.000000          3.000000  ...     0.000000         66.300000\n",
              "25%       80.000000         29.000000  ...     4.499936        161.400000\n",
              "50%      171.000000         62.000000  ...     5.384471        178.300000\n",
              "75%      508.000000        148.000000  ...     6.473896        195.500000\n",
              "max    24965.000000       9445.000000  ...    21.326165        362.800000\n",
              "\n",
              "[8 rows x 32 columns]"
            ]
          },
          "metadata": {
            "tags": []
          },
          "execution_count": 7
        }
      ]
    },
    {
      "cell_type": "code",
      "metadata": {
        "colab": {
          "base_uri": "https://localhost:8080/",
          "height": 716
        },
        "id": "UI2Dx8K62QZX",
        "outputId": "7685ba0e-1064-4f4b-e1fb-37192c765fa0"
      },
      "source": [
        "cancer_data.hist(bins=10, figsize=(16,12))\n",
        "plt.show()"
      ],
      "execution_count": null,
      "outputs": [
        {
          "output_type": "display_data",
          "data": {
            "image/png": "[encoded data removed]",
            "text/plain": [
              "<Figure size 1152x864 with 36 Axes>"
            ]
          },
          "metadata": {
            "tags": [],
            "needs_background": "light"
          }
        }
      ]
    },
    {
      "cell_type": "code",
      "metadata": {
        "colab": {
          "base_uri": "https://localhost:8080/",
          "height": 1000
        },
        "id": "fGVqkUIe_U_w",
        "outputId": "10611d8d-3cb4-4a25-8a41-864e6d21bc7e"
      },
      "source": [
        "cancer_data.corr()"
      ],
      "execution_count": null,
      "outputs": [
        {
          "output_type": "execute_result",
          "data": {
            "text/html": [
              "<div>\n",
              "<style scoped>\n",
              "    .dataframe tbody tr th:only-of-type {\n",
              "        vertical-align: middle;\n",
              "    }\n",
              "\n",
              "    .dataframe tbody tr th {\n",
              "        vertical-align: top;\n",
              "    }\n",
              "\n",
              "    .dataframe thead th {\n",
              "        text-align: right;\n",
              "    }\n",
              "</style>\n",
              "<table border=\"1\" class=\"dataframe\">\n",
              "  <thead>\n",
              "    <tr style=\"text-align: right;\">\n",
              "      <th></th>\n",
              "      <th>avgAnnCount</th>\n",
              "      <th>avgDeathsPerYear</th>\n",
              "      <th>incidenceRate</th>\n",
              "      <th>medIncome</th>\n",
              "      <th>popEst2015</th>\n",
              "      <th>povertyPercent</th>\n",
              "      <th>studyPerCap</th>\n",
              "      <th>MedianAge</th>\n",
              "      <th>MedianAgeMale</th>\n",
              "      <th>MedianAgeFemale</th>\n",
              "      <th>AvgHouseholdSize</th>\n",
              "      <th>PercentMarried</th>\n",
              "      <th>PctNoHS18_24</th>\n",
              "      <th>PctHS18_24</th>\n",
              "      <th>PctSomeCol18_24</th>\n",
              "      <th>PctBachDeg18_24</th>\n",
              "      <th>PctHS25_Over</th>\n",
              "      <th>PctBachDeg25_Over</th>\n",
              "      <th>PctEmployed16_Over</th>\n",
              "      <th>PctUnemployed16_Over</th>\n",
              "      <th>PctPrivateCoverage</th>\n",
              "      <th>PctPrivateCoverageAlone</th>\n",
              "      <th>PctEmpPrivCoverage</th>\n",
              "      <th>PctPublicCoverage</th>\n",
              "      <th>PctPublicCoverageAlone</th>\n",
              "      <th>PctWhite</th>\n",
              "      <th>PctBlack</th>\n",
              "      <th>PctAsian</th>\n",
              "      <th>PctOtherRace</th>\n",
              "      <th>PctMarriedHouseholds</th>\n",
              "      <th>BirthRate</th>\n",
              "      <th>TARGET_deathRate</th>\n",
              "    </tr>\n",
              "  </thead>\n",
              "  <tbody>\n",
              "    <tr>\n",
              "      <th>avgAnnCount</th>\n",
              "      <td>1.000000</td>\n",
              "      <td>0.923935</td>\n",
              "      <td>0.093793</td>\n",
              "      <td>0.292551</td>\n",
              "      <td>0.907281</td>\n",
              "      <td>-0.153511</td>\n",
              "      <td>0.070595</td>\n",
              "      <td>-0.018056</td>\n",
              "      <td>-0.117826</td>\n",
              "      <td>-0.118879</td>\n",
              "      <td>0.056932</td>\n",
              "      <td>-0.092258</td>\n",
              "      <td>-0.149731</td>\n",
              "      <td>-0.177809</td>\n",
              "      <td>0.135715</td>\n",
              "      <td>0.293842</td>\n",
              "      <td>-0.314156</td>\n",
              "      <td>0.337281</td>\n",
              "      <td>0.211518</td>\n",
              "      <td>-0.017797</td>\n",
              "      <td>0.151717</td>\n",
              "      <td>0.223735</td>\n",
              "      <td>0.217377</td>\n",
              "      <td>-0.184398</td>\n",
              "      <td>-0.110135</td>\n",
              "      <td>-0.134860</td>\n",
              "      <td>0.033512</td>\n",
              "      <td>0.440741</td>\n",
              "      <td>0.207671</td>\n",
              "      <td>-0.095842</td>\n",
              "      <td>-0.028986</td>\n",
              "      <td>-0.130745</td>\n",
              "    </tr>\n",
              "    <tr>\n",
              "      <th>avgDeathsPerYear</th>\n",
              "      <td>0.923935</td>\n",
              "      <td>1.000000</td>\n",
              "      <td>0.083217</td>\n",
              "      <td>0.244401</td>\n",
              "      <td>0.971384</td>\n",
              "      <td>-0.078702</td>\n",
              "      <td>0.064497</td>\n",
              "      <td>-0.016642</td>\n",
              "      <td>-0.149103</td>\n",
              "      <td>-0.146657</td>\n",
              "      <td>0.081113</td>\n",
              "      <td>-0.181102</td>\n",
              "      <td>-0.140910</td>\n",
              "      <td>-0.145693</td>\n",
              "      <td>0.124088</td>\n",
              "      <td>0.266891</td>\n",
              "      <td>-0.301554</td>\n",
              "      <td>0.309534</td>\n",
              "      <td>0.129842</td>\n",
              "      <td>0.071778</td>\n",
              "      <td>0.069847</td>\n",
              "      <td>0.156071</td>\n",
              "      <td>0.176008</td>\n",
              "      <td>-0.143982</td>\n",
              "      <td>-0.041234</td>\n",
              "      <td>-0.190650</td>\n",
              "      <td>0.092127</td>\n",
              "      <td>0.456169</td>\n",
              "      <td>0.213360</td>\n",
              "      <td>-0.161171</td>\n",
              "      <td>-0.070212</td>\n",
              "      <td>-0.074008</td>\n",
              "    </tr>\n",
              "    <tr>\n",
              "      <th>incidenceRate</th>\n",
              "      <td>0.093793</td>\n",
              "      <td>0.083217</td>\n",
              "      <td>1.000000</td>\n",
              "      <td>-0.006377</td>\n",
              "      <td>0.046802</td>\n",
              "      <td>0.018940</td>\n",
              "      <td>0.064139</td>\n",
              "      <td>0.015603</td>\n",
              "      <td>-0.001209</td>\n",
              "      <td>0.004629</td>\n",
              "      <td>-0.085617</td>\n",
              "      <td>-0.122265</td>\n",
              "      <td>-0.179984</td>\n",
              "      <td>0.065147</td>\n",
              "      <td>0.015150</td>\n",
              "      <td>0.031113</td>\n",
              "      <td>0.138648</td>\n",
              "      <td>-0.053213</td>\n",
              "      <td>0.009715</td>\n",
              "      <td>0.105996</td>\n",
              "      <td>0.096089</td>\n",
              "      <td>0.099161</td>\n",
              "      <td>0.149924</td>\n",
              "      <td>0.065979</td>\n",
              "      <td>0.062519</td>\n",
              "      <td>-0.031335</td>\n",
              "      <td>0.118791</td>\n",
              "      <td>0.002370</td>\n",
              "      <td>-0.204575</td>\n",
              "      <td>-0.155923</td>\n",
              "      <td>-0.113258</td>\n",
              "      <td>0.467683</td>\n",
              "    </tr>\n",
              "    <tr>\n",
              "      <th>medIncome</th>\n",
              "      <td>0.292551</td>\n",
              "      <td>0.244401</td>\n",
              "      <td>-0.006377</td>\n",
              "      <td>1.000000</td>\n",
              "      <td>0.269641</td>\n",
              "      <td>-0.793994</td>\n",
              "      <td>0.041672</td>\n",
              "      <td>0.000035</td>\n",
              "      <td>-0.089085</td>\n",
              "      <td>-0.150649</td>\n",
              "      <td>0.108409</td>\n",
              "      <td>0.365952</td>\n",
              "      <td>-0.288185</td>\n",
              "      <td>-0.192084</td>\n",
              "      <td>0.209746</td>\n",
              "      <td>0.495539</td>\n",
              "      <td>-0.466977</td>\n",
              "      <td>0.709065</td>\n",
              "      <td>0.694584</td>\n",
              "      <td>-0.458752</td>\n",
              "      <td>0.729902</td>\n",
              "      <td>0.788437</td>\n",
              "      <td>0.746149</td>\n",
              "      <td>-0.753168</td>\n",
              "      <td>-0.723002</td>\n",
              "      <td>0.174797</td>\n",
              "      <td>-0.268332</td>\n",
              "      <td>0.450907</td>\n",
              "      <td>0.087813</td>\n",
              "      <td>0.448764</td>\n",
              "      <td>-0.005879</td>\n",
              "      <td>-0.433311</td>\n",
              "    </tr>\n",
              "    <tr>\n",
              "      <th>popEst2015</th>\n",
              "      <td>0.907281</td>\n",
              "      <td>0.971384</td>\n",
              "      <td>0.046802</td>\n",
              "      <td>0.269641</td>\n",
              "      <td>1.000000</td>\n",
              "      <td>-0.083109</td>\n",
              "      <td>0.059083</td>\n",
              "      <td>-0.013029</td>\n",
              "      <td>-0.187828</td>\n",
              "      <td>-0.191556</td>\n",
              "      <td>0.108130</td>\n",
              "      <td>-0.162652</td>\n",
              "      <td>-0.136246</td>\n",
              "      <td>-0.154262</td>\n",
              "      <td>0.108005</td>\n",
              "      <td>0.267584</td>\n",
              "      <td>-0.333157</td>\n",
              "      <td>0.330253</td>\n",
              "      <td>0.154495</td>\n",
              "      <td>0.048604</td>\n",
              "      <td>0.073981</td>\n",
              "      <td>0.171036</td>\n",
              "      <td>0.186544</td>\n",
              "      <td>-0.186896</td>\n",
              "      <td>-0.064535</td>\n",
              "      <td>-0.201226</td>\n",
              "      <td>0.086081</td>\n",
              "      <td>0.499890</td>\n",
              "      <td>0.244680</td>\n",
              "      <td>-0.128920</td>\n",
              "      <td>-0.054911</td>\n",
              "      <td>-0.111470</td>\n",
              "    </tr>\n",
              "    <tr>\n",
              "      <th>povertyPercent</th>\n",
              "      <td>-0.153511</td>\n",
              "      <td>-0.078702</td>\n",
              "      <td>0.018940</td>\n",
              "      <td>-0.793994</td>\n",
              "      <td>-0.083109</td>\n",
              "      <td>1.000000</td>\n",
              "      <td>-0.052453</td>\n",
              "      <td>-0.039496</td>\n",
              "      <td>-0.207178</td>\n",
              "      <td>-0.140043</td>\n",
              "      <td>0.065956</td>\n",
              "      <td>-0.644720</td>\n",
              "      <td>0.269000</td>\n",
              "      <td>0.089684</td>\n",
              "      <td>-0.172495</td>\n",
              "      <td>-0.387056</td>\n",
              "      <td>0.191345</td>\n",
              "      <td>-0.528803</td>\n",
              "      <td>-0.732775</td>\n",
              "      <td>0.654213</td>\n",
              "      <td>-0.819489</td>\n",
              "      <td>-0.757670</td>\n",
              "      <td>-0.677633</td>\n",
              "      <td>0.649896</td>\n",
              "      <td>0.797798</td>\n",
              "      <td>-0.508448</td>\n",
              "      <td>0.514195</td>\n",
              "      <td>-0.163345</td>\n",
              "      <td>0.038812</td>\n",
              "      <td>-0.606798</td>\n",
              "      <td>-0.037040</td>\n",
              "      <td>0.427118</td>\n",
              "    </tr>\n",
              "    <tr>\n",
              "      <th>studyPerCap</th>\n",
              "      <td>0.070595</td>\n",
              "      <td>0.064497</td>\n",
              "      <td>0.064139</td>\n",
              "      <td>0.041672</td>\n",
              "      <td>0.059083</td>\n",
              "      <td>-0.052453</td>\n",
              "      <td>1.000000</td>\n",
              "      <td>-0.027554</td>\n",
              "      <td>-0.040006</td>\n",
              "      <td>-0.036666</td>\n",
              "      <td>0.001118</td>\n",
              "      <td>-0.037337</td>\n",
              "      <td>-0.060354</td>\n",
              "      <td>-0.059989</td>\n",
              "      <td>0.139199</td>\n",
              "      <td>0.050189</td>\n",
              "      <td>-0.089984</td>\n",
              "      <td>0.114052</td>\n",
              "      <td>0.090686</td>\n",
              "      <td>-0.037289</td>\n",
              "      <td>0.095512</td>\n",
              "      <td>0.070741</td>\n",
              "      <td>0.092621</td>\n",
              "      <td>-0.060247</td>\n",
              "      <td>-0.067500</td>\n",
              "      <td>0.017619</td>\n",
              "      <td>-0.014936</td>\n",
              "      <td>0.065682</td>\n",
              "      <td>-0.024420</td>\n",
              "      <td>-0.045476</td>\n",
              "      <td>0.008558</td>\n",
              "      <td>-0.023890</td>\n",
              "    </tr>\n",
              "    <tr>\n",
              "      <th>MedianAge</th>\n",
              "      <td>-0.018056</td>\n",
              "      <td>-0.016642</td>\n",
              "      <td>0.015603</td>\n",
              "      <td>0.000035</td>\n",
              "      <td>-0.013029</td>\n",
              "      <td>-0.039496</td>\n",
              "      <td>-0.027554</td>\n",
              "      <td>1.000000</td>\n",
              "      <td>0.107618</td>\n",
              "      <td>0.113412</td>\n",
              "      <td>-0.025631</td>\n",
              "      <td>0.060273</td>\n",
              "      <td>0.005996</td>\n",
              "      <td>0.038764</td>\n",
              "      <td>-0.015009</td>\n",
              "      <td>-0.013868</td>\n",
              "      <td>0.050811</td>\n",
              "      <td>-0.018384</td>\n",
              "      <td>-0.014811</td>\n",
              "      <td>0.003946</td>\n",
              "      <td>0.021894</td>\n",
              "      <td>-0.011277</td>\n",
              "      <td>-0.016232</td>\n",
              "      <td>0.027074</td>\n",
              "      <td>-0.021316</td>\n",
              "      <td>0.029777</td>\n",
              "      <td>-0.005716</td>\n",
              "      <td>-0.024078</td>\n",
              "      <td>-0.028023</td>\n",
              "      <td>0.031896</td>\n",
              "      <td>0.000633</td>\n",
              "      <td>0.002772</td>\n",
              "    </tr>\n",
              "    <tr>\n",
              "      <th>MedianAgeMale</th>\n",
              "      <td>-0.117826</td>\n",
              "      <td>-0.149103</td>\n",
              "      <td>-0.001209</td>\n",
              "      <td>-0.089085</td>\n",
              "      <td>-0.187828</td>\n",
              "      <td>-0.207178</td>\n",
              "      <td>-0.040006</td>\n",
              "      <td>0.107618</td>\n",
              "      <td>1.000000</td>\n",
              "      <td>0.929571</td>\n",
              "      <td>-0.332021</td>\n",
              "      <td>0.444570</td>\n",
              "      <td>0.106684</td>\n",
              "      <td>0.250098</td>\n",
              "      <td>-0.243584</td>\n",
              "      <td>-0.042250</td>\n",
              "      <td>0.320815</td>\n",
              "      <td>-0.147587</td>\n",
              "      <td>-0.187813</td>\n",
              "      <td>-0.115568</td>\n",
              "      <td>0.068686</td>\n",
              "      <td>-0.174799</td>\n",
              "      <td>-0.232712</td>\n",
              "      <td>0.402511</td>\n",
              "      <td>0.010843</td>\n",
              "      <td>0.380859</td>\n",
              "      <td>-0.240541</td>\n",
              "      <td>-0.245138</td>\n",
              "      <td>-0.274713</td>\n",
              "      <td>0.216806</td>\n",
              "      <td>-0.086324</td>\n",
              "      <td>-0.002006</td>\n",
              "    </tr>\n",
              "    <tr>\n",
              "      <th>MedianAgeFemale</th>\n",
              "      <td>-0.118879</td>\n",
              "      <td>-0.146657</td>\n",
              "      <td>0.004629</td>\n",
              "      <td>-0.150649</td>\n",
              "      <td>-0.191556</td>\n",
              "      <td>-0.140043</td>\n",
              "      <td>-0.036666</td>\n",
              "      <td>0.113412</td>\n",
              "      <td>0.929571</td>\n",
              "      <td>1.000000</td>\n",
              "      <td>-0.356711</td>\n",
              "      <td>0.359423</td>\n",
              "      <td>0.157249</td>\n",
              "      <td>0.259973</td>\n",
              "      <td>-0.305402</td>\n",
              "      <td>-0.087830</td>\n",
              "      <td>0.354246</td>\n",
              "      <td>-0.199957</td>\n",
              "      <td>-0.278066</td>\n",
              "      <td>-0.089276</td>\n",
              "      <td>0.028907</td>\n",
              "      <td>-0.224679</td>\n",
              "      <td>-0.281330</td>\n",
              "      <td>0.463691</td>\n",
              "      <td>0.056223</td>\n",
              "      <td>0.314168</td>\n",
              "      <td>-0.158247</td>\n",
              "      <td>-0.264226</td>\n",
              "      <td>-0.279382</td>\n",
              "      <td>0.148140</td>\n",
              "      <td>-0.079924</td>\n",
              "      <td>0.034693</td>\n",
              "    </tr>\n",
              "    <tr>\n",
              "      <th>AvgHouseholdSize</th>\n",
              "      <td>0.056932</td>\n",
              "      <td>0.081113</td>\n",
              "      <td>-0.085617</td>\n",
              "      <td>0.108409</td>\n",
              "      <td>0.108130</td>\n",
              "      <td>0.065956</td>\n",
              "      <td>0.001118</td>\n",
              "      <td>-0.025631</td>\n",
              "      <td>-0.332021</td>\n",
              "      <td>-0.356711</td>\n",
              "      <td>1.000000</td>\n",
              "      <td>-0.076331</td>\n",
              "      <td>0.035226</td>\n",
              "      <td>0.019723</td>\n",
              "      <td>-0.031009</td>\n",
              "      <td>-0.044788</td>\n",
              "      <td>-0.143336</td>\n",
              "      <td>0.025555</td>\n",
              "      <td>0.022635</td>\n",
              "      <td>0.135364</td>\n",
              "      <td>-0.125134</td>\n",
              "      <td>0.018771</td>\n",
              "      <td>0.031579</td>\n",
              "      <td>-0.136524</td>\n",
              "      <td>0.053459</td>\n",
              "      <td>-0.168646</td>\n",
              "      <td>0.046055</td>\n",
              "      <td>0.115502</td>\n",
              "      <td>0.219717</td>\n",
              "      <td>0.109731</td>\n",
              "      <td>0.070558</td>\n",
              "      <td>-0.030288</td>\n",
              "    </tr>\n",
              "    <tr>\n",
              "      <th>PercentMarried</th>\n",
              "      <td>-0.092258</td>\n",
              "      <td>-0.181102</td>\n",
              "      <td>-0.122265</td>\n",
              "      <td>0.365952</td>\n",
              "      <td>-0.162652</td>\n",
              "      <td>-0.644720</td>\n",
              "      <td>-0.037337</td>\n",
              "      <td>0.060273</td>\n",
              "      <td>0.444570</td>\n",
              "      <td>0.359423</td>\n",
              "      <td>-0.076331</td>\n",
              "      <td>1.000000</td>\n",
              "      <td>0.002843</td>\n",
              "      <td>0.129710</td>\n",
              "      <td>-0.116216</td>\n",
              "      <td>0.050213</td>\n",
              "      <td>0.090527</td>\n",
              "      <td>0.112121</td>\n",
              "      <td>0.409711</td>\n",
              "      <td>-0.553395</td>\n",
              "      <td>0.441912</td>\n",
              "      <td>0.335762</td>\n",
              "      <td>0.222616</td>\n",
              "      <td>-0.250660</td>\n",
              "      <td>-0.453970</td>\n",
              "      <td>0.679982</td>\n",
              "      <td>-0.643030</td>\n",
              "      <td>-0.140618</td>\n",
              "      <td>-0.092956</td>\n",
              "      <td>0.870629</td>\n",
              "      <td>0.164501</td>\n",
              "      <td>-0.262946</td>\n",
              "    </tr>\n",
              "    <tr>\n",
              "      <th>PctNoHS18_24</th>\n",
              "      <td>-0.149731</td>\n",
              "      <td>-0.140910</td>\n",
              "      <td>-0.179984</td>\n",
              "      <td>-0.288185</td>\n",
              "      <td>-0.136246</td>\n",
              "      <td>0.269000</td>\n",
              "      <td>-0.060354</td>\n",
              "      <td>0.005996</td>\n",
              "      <td>0.106684</td>\n",
              "      <td>0.157249</td>\n",
              "      <td>0.035226</td>\n",
              "      <td>0.002843</td>\n",
              "      <td>1.000000</td>\n",
              "      <td>0.073947</td>\n",
              "      <td>-0.651083</td>\n",
              "      <td>-0.379806</td>\n",
              "      <td>0.222034</td>\n",
              "      <td>-0.401050</td>\n",
              "      <td>-0.350941</td>\n",
              "      <td>0.180171</td>\n",
              "      <td>-0.450332</td>\n",
              "      <td>-0.473714</td>\n",
              "      <td>-0.438166</td>\n",
              "      <td>0.332323</td>\n",
              "      <td>0.332045</td>\n",
              "      <td>-0.130548</td>\n",
              "      <td>0.102803</td>\n",
              "      <td>-0.215153</td>\n",
              "      <td>0.107053</td>\n",
              "      <td>0.011099</td>\n",
              "      <td>0.120901</td>\n",
              "      <td>0.075815</td>\n",
              "    </tr>\n",
              "    <tr>\n",
              "      <th>PctHS18_24</th>\n",
              "      <td>-0.177809</td>\n",
              "      <td>-0.145693</td>\n",
              "      <td>0.065147</td>\n",
              "      <td>-0.192084</td>\n",
              "      <td>-0.154262</td>\n",
              "      <td>0.089684</td>\n",
              "      <td>-0.059989</td>\n",
              "      <td>0.038764</td>\n",
              "      <td>0.250098</td>\n",
              "      <td>0.259973</td>\n",
              "      <td>0.019723</td>\n",
              "      <td>0.129710</td>\n",
              "      <td>0.073947</td>\n",
              "      <td>1.000000</td>\n",
              "      <td>-0.751395</td>\n",
              "      <td>-0.390313</td>\n",
              "      <td>0.441462</td>\n",
              "      <td>-0.397302</td>\n",
              "      <td>-0.264663</td>\n",
              "      <td>0.126038</td>\n",
              "      <td>-0.255695</td>\n",
              "      <td>-0.281515</td>\n",
              "      <td>-0.236720</td>\n",
              "      <td>0.283628</td>\n",
              "      <td>0.243850</td>\n",
              "      <td>0.046367</td>\n",
              "      <td>-0.017107</td>\n",
              "      <td>-0.219707</td>\n",
              "      <td>-0.066336</td>\n",
              "      <td>0.105534</td>\n",
              "      <td>0.030580</td>\n",
              "      <td>0.284328</td>\n",
              "    </tr>\n",
              "    <tr>\n",
              "      <th>PctSomeCol18_24</th>\n",
              "      <td>0.135715</td>\n",
              "      <td>0.124088</td>\n",
              "      <td>0.015150</td>\n",
              "      <td>0.209746</td>\n",
              "      <td>0.108005</td>\n",
              "      <td>-0.172495</td>\n",
              "      <td>0.139199</td>\n",
              "      <td>-0.015009</td>\n",
              "      <td>-0.243584</td>\n",
              "      <td>-0.305402</td>\n",
              "      <td>-0.031009</td>\n",
              "      <td>-0.116216</td>\n",
              "      <td>-0.651083</td>\n",
              "      <td>-0.751395</td>\n",
              "      <td>1.000000</td>\n",
              "      <td>0.244932</td>\n",
              "      <td>-0.368661</td>\n",
              "      <td>0.415647</td>\n",
              "      <td>0.310660</td>\n",
              "      <td>-0.129356</td>\n",
              "      <td>0.414694</td>\n",
              "      <td>0.453650</td>\n",
              "      <td>0.384129</td>\n",
              "      <td>-0.353663</td>\n",
              "      <td>-0.333976</td>\n",
              "      <td>0.097666</td>\n",
              "      <td>-0.076333</td>\n",
              "      <td>0.186394</td>\n",
              "      <td>-0.057322</td>\n",
              "      <td>-0.050415</td>\n",
              "      <td>-0.060074</td>\n",
              "      <td>-0.206337</td>\n",
              "    </tr>\n",
              "    <tr>\n",
              "      <th>PctBachDeg18_24</th>\n",
              "      <td>0.293842</td>\n",
              "      <td>0.266891</td>\n",
              "      <td>0.031113</td>\n",
              "      <td>0.495539</td>\n",
              "      <td>0.267584</td>\n",
              "      <td>-0.387056</td>\n",
              "      <td>0.050189</td>\n",
              "      <td>-0.013868</td>\n",
              "      <td>-0.042250</td>\n",
              "      <td>-0.087830</td>\n",
              "      <td>-0.044788</td>\n",
              "      <td>0.050213</td>\n",
              "      <td>-0.379806</td>\n",
              "      <td>-0.390313</td>\n",
              "      <td>0.244932</td>\n",
              "      <td>1.000000</td>\n",
              "      <td>-0.383615</td>\n",
              "      <td>0.590412</td>\n",
              "      <td>0.465971</td>\n",
              "      <td>-0.305401</td>\n",
              "      <td>0.485462</td>\n",
              "      <td>0.514258</td>\n",
              "      <td>0.446616</td>\n",
              "      <td>-0.439042</td>\n",
              "      <td>-0.435160</td>\n",
              "      <td>0.055391</td>\n",
              "      <td>-0.093302</td>\n",
              "      <td>0.372047</td>\n",
              "      <td>0.032151</td>\n",
              "      <td>-0.002344</td>\n",
              "      <td>-0.114157</td>\n",
              "      <td>-0.292220</td>\n",
              "    </tr>\n",
              "    <tr>\n",
              "      <th>PctHS25_Over</th>\n",
              "      <td>-0.314156</td>\n",
              "      <td>-0.301554</td>\n",
              "      <td>0.138648</td>\n",
              "      <td>-0.466977</td>\n",
              "      <td>-0.333157</td>\n",
              "      <td>0.191345</td>\n",
              "      <td>-0.089984</td>\n",
              "      <td>0.050811</td>\n",
              "      <td>0.320815</td>\n",
              "      <td>0.354246</td>\n",
              "      <td>-0.143336</td>\n",
              "      <td>0.090527</td>\n",
              "      <td>0.222034</td>\n",
              "      <td>0.441462</td>\n",
              "      <td>-0.368661</td>\n",
              "      <td>-0.383615</td>\n",
              "      <td>1.000000</td>\n",
              "      <td>-0.740073</td>\n",
              "      <td>-0.355667</td>\n",
              "      <td>0.088824</td>\n",
              "      <td>-0.214213</td>\n",
              "      <td>-0.298515</td>\n",
              "      <td>-0.213866</td>\n",
              "      <td>0.426868</td>\n",
              "      <td>0.293459</td>\n",
              "      <td>0.185501</td>\n",
              "      <td>-0.030263</td>\n",
              "      <td>-0.471938</td>\n",
              "      <td>-0.286184</td>\n",
              "      <td>0.058844</td>\n",
              "      <td>-0.001057</td>\n",
              "      <td>0.403449</td>\n",
              "    </tr>\n",
              "    <tr>\n",
              "      <th>PctBachDeg25_Over</th>\n",
              "      <td>0.337281</td>\n",
              "      <td>0.309534</td>\n",
              "      <td>-0.053213</td>\n",
              "      <td>0.709065</td>\n",
              "      <td>0.330253</td>\n",
              "      <td>-0.528803</td>\n",
              "      <td>0.114052</td>\n",
              "      <td>-0.018384</td>\n",
              "      <td>-0.147587</td>\n",
              "      <td>-0.199957</td>\n",
              "      <td>0.025555</td>\n",
              "      <td>0.112121</td>\n",
              "      <td>-0.401050</td>\n",
              "      <td>-0.397302</td>\n",
              "      <td>0.415647</td>\n",
              "      <td>0.590412</td>\n",
              "      <td>-0.740073</td>\n",
              "      <td>1.000000</td>\n",
              "      <td>0.621944</td>\n",
              "      <td>-0.371539</td>\n",
              "      <td>0.601457</td>\n",
              "      <td>0.651953</td>\n",
              "      <td>0.532721</td>\n",
              "      <td>-0.647062</td>\n",
              "      <td>-0.612370</td>\n",
              "      <td>0.040018</td>\n",
              "      <td>-0.145587</td>\n",
              "      <td>0.474249</td>\n",
              "      <td>0.053122</td>\n",
              "      <td>0.100802</td>\n",
              "      <td>-0.052914</td>\n",
              "      <td>-0.480939</td>\n",
              "    </tr>\n",
              "    <tr>\n",
              "      <th>PctEmployed16_Over</th>\n",
              "      <td>0.211518</td>\n",
              "      <td>0.129842</td>\n",
              "      <td>0.009715</td>\n",
              "      <td>0.694584</td>\n",
              "      <td>0.154495</td>\n",
              "      <td>-0.732775</td>\n",
              "      <td>0.090686</td>\n",
              "      <td>-0.014811</td>\n",
              "      <td>-0.187813</td>\n",
              "      <td>-0.278066</td>\n",
              "      <td>0.022635</td>\n",
              "      <td>0.409711</td>\n",
              "      <td>-0.350941</td>\n",
              "      <td>-0.264663</td>\n",
              "      <td>0.310660</td>\n",
              "      <td>0.465971</td>\n",
              "      <td>-0.355667</td>\n",
              "      <td>0.621944</td>\n",
              "      <td>1.000000</td>\n",
              "      <td>-0.647229</td>\n",
              "      <td>0.704535</td>\n",
              "      <td>0.786405</td>\n",
              "      <td>0.691636</td>\n",
              "      <td>-0.785865</td>\n",
              "      <td>-0.720078</td>\n",
              "      <td>0.267850</td>\n",
              "      <td>-0.327171</td>\n",
              "      <td>0.242171</td>\n",
              "      <td>0.065266</td>\n",
              "      <td>0.322881</td>\n",
              "      <td>0.122682</td>\n",
              "      <td>-0.414695</td>\n",
              "    </tr>\n",
              "    <tr>\n",
              "      <th>PctUnemployed16_Over</th>\n",
              "      <td>-0.017797</td>\n",
              "      <td>0.071778</td>\n",
              "      <td>0.105996</td>\n",
              "      <td>-0.458752</td>\n",
              "      <td>0.048604</td>\n",
              "      <td>0.654213</td>\n",
              "      <td>-0.037289</td>\n",
              "      <td>0.003946</td>\n",
              "      <td>-0.115568</td>\n",
              "      <td>-0.089276</td>\n",
              "      <td>0.135364</td>\n",
              "      <td>-0.553395</td>\n",
              "      <td>0.180171</td>\n",
              "      <td>0.126038</td>\n",
              "      <td>-0.129356</td>\n",
              "      <td>-0.305401</td>\n",
              "      <td>0.088824</td>\n",
              "      <td>-0.371539</td>\n",
              "      <td>-0.647229</td>\n",
              "      <td>1.000000</td>\n",
              "      <td>-0.627450</td>\n",
              "      <td>-0.576502</td>\n",
              "      <td>-0.463879</td>\n",
              "      <td>0.541486</td>\n",
              "      <td>0.659913</td>\n",
              "      <td>-0.494177</td>\n",
              "      <td>0.471726</td>\n",
              "      <td>-0.027919</td>\n",
              "      <td>0.031767</td>\n",
              "      <td>-0.471690</td>\n",
              "      <td>-0.097809</td>\n",
              "      <td>0.379085</td>\n",
              "    </tr>\n",
              "    <tr>\n",
              "      <th>PctPrivateCoverage</th>\n",
              "      <td>0.151717</td>\n",
              "      <td>0.069847</td>\n",
              "      <td>0.096089</td>\n",
              "      <td>0.729902</td>\n",
              "      <td>0.073981</td>\n",
              "      <td>-0.819489</td>\n",
              "      <td>0.095512</td>\n",
              "      <td>0.021894</td>\n",
              "      <td>0.068686</td>\n",
              "      <td>0.028907</td>\n",
              "      <td>-0.125134</td>\n",
              "      <td>0.441912</td>\n",
              "      <td>-0.450332</td>\n",
              "      <td>-0.255695</td>\n",
              "      <td>0.414694</td>\n",
              "      <td>0.485462</td>\n",
              "      <td>-0.214213</td>\n",
              "      <td>0.601457</td>\n",
              "      <td>0.704535</td>\n",
              "      <td>-0.627450</td>\n",
              "      <td>1.000000</td>\n",
              "      <td>0.933893</td>\n",
              "      <td>0.831706</td>\n",
              "      <td>-0.724505</td>\n",
              "      <td>-0.888009</td>\n",
              "      <td>0.412942</td>\n",
              "      <td>-0.348425</td>\n",
              "      <td>0.205740</td>\n",
              "      <td>-0.170259</td>\n",
              "      <td>0.429503</td>\n",
              "      <td>-0.017357</td>\n",
              "      <td>-0.382859</td>\n",
              "    </tr>\n",
              "    <tr>\n",
              "      <th>PctPrivateCoverageAlone</th>\n",
              "      <td>0.223735</td>\n",
              "      <td>0.156071</td>\n",
              "      <td>0.099161</td>\n",
              "      <td>0.788437</td>\n",
              "      <td>0.171036</td>\n",
              "      <td>-0.757670</td>\n",
              "      <td>0.070741</td>\n",
              "      <td>-0.011277</td>\n",
              "      <td>-0.174799</td>\n",
              "      <td>-0.224679</td>\n",
              "      <td>0.018771</td>\n",
              "      <td>0.335762</td>\n",
              "      <td>-0.473714</td>\n",
              "      <td>-0.281515</td>\n",
              "      <td>0.453650</td>\n",
              "      <td>0.514258</td>\n",
              "      <td>-0.298515</td>\n",
              "      <td>0.651953</td>\n",
              "      <td>0.786405</td>\n",
              "      <td>-0.576502</td>\n",
              "      <td>0.933893</td>\n",
              "      <td>1.000000</td>\n",
              "      <td>0.933397</td>\n",
              "      <td>-0.864961</td>\n",
              "      <td>-0.857562</td>\n",
              "      <td>0.301962</td>\n",
              "      <td>-0.276415</td>\n",
              "      <td>0.312694</td>\n",
              "      <td>-0.084857</td>\n",
              "      <td>0.400152</td>\n",
              "      <td>-0.029667</td>\n",
              "      <td>-0.364386</td>\n",
              "    </tr>\n",
              "    <tr>\n",
              "      <th>PctEmpPrivCoverage</th>\n",
              "      <td>0.217377</td>\n",
              "      <td>0.176008</td>\n",
              "      <td>0.149924</td>\n",
              "      <td>0.746149</td>\n",
              "      <td>0.186544</td>\n",
              "      <td>-0.677633</td>\n",
              "      <td>0.092621</td>\n",
              "      <td>-0.016232</td>\n",
              "      <td>-0.232712</td>\n",
              "      <td>-0.281330</td>\n",
              "      <td>0.031579</td>\n",
              "      <td>0.222616</td>\n",
              "      <td>-0.438166</td>\n",
              "      <td>-0.236720</td>\n",
              "      <td>0.384129</td>\n",
              "      <td>0.446616</td>\n",
              "      <td>-0.213866</td>\n",
              "      <td>0.532721</td>\n",
              "      <td>0.691636</td>\n",
              "      <td>-0.463879</td>\n",
              "      <td>0.831706</td>\n",
              "      <td>0.933397</td>\n",
              "      <td>1.000000</td>\n",
              "      <td>-0.786217</td>\n",
              "      <td>-0.731654</td>\n",
              "      <td>0.255513</td>\n",
              "      <td>-0.233485</td>\n",
              "      <td>0.305039</td>\n",
              "      <td>-0.062856</td>\n",
              "      <td>0.325264</td>\n",
              "      <td>-0.082248</td>\n",
              "      <td>-0.257117</td>\n",
              "    </tr>\n",
              "    <tr>\n",
              "      <th>PctPublicCoverage</th>\n",
              "      <td>-0.184398</td>\n",
              "      <td>-0.143982</td>\n",
              "      <td>0.065979</td>\n",
              "      <td>-0.753168</td>\n",
              "      <td>-0.186896</td>\n",
              "      <td>0.649896</td>\n",
              "      <td>-0.060247</td>\n",
              "      <td>0.027074</td>\n",
              "      <td>0.402511</td>\n",
              "      <td>0.463691</td>\n",
              "      <td>-0.136524</td>\n",
              "      <td>-0.250660</td>\n",
              "      <td>0.332323</td>\n",
              "      <td>0.283628</td>\n",
              "      <td>-0.353663</td>\n",
              "      <td>-0.439042</td>\n",
              "      <td>0.426868</td>\n",
              "      <td>-0.647062</td>\n",
              "      <td>-0.785865</td>\n",
              "      <td>0.541486</td>\n",
              "      <td>-0.724505</td>\n",
              "      <td>-0.864961</td>\n",
              "      <td>-0.786217</td>\n",
              "      <td>1.000000</td>\n",
              "      <td>0.865144</td>\n",
              "      <td>-0.137478</td>\n",
              "      <td>0.193698</td>\n",
              "      <td>-0.323300</td>\n",
              "      <td>-0.080790</td>\n",
              "      <td>-0.364237</td>\n",
              "      <td>-0.038881</td>\n",
              "      <td>0.422291</td>\n",
              "    </tr>\n",
              "    <tr>\n",
              "      <th>PctPublicCoverageAlone</th>\n",
              "      <td>-0.110135</td>\n",
              "      <td>-0.041234</td>\n",
              "      <td>0.062519</td>\n",
              "      <td>-0.723002</td>\n",
              "      <td>-0.064535</td>\n",
              "      <td>0.797798</td>\n",
              "      <td>-0.067500</td>\n",
              "      <td>-0.021316</td>\n",
              "      <td>0.010843</td>\n",
              "      <td>0.056223</td>\n",
              "      <td>0.053459</td>\n",
              "      <td>-0.453970</td>\n",
              "      <td>0.332045</td>\n",
              "      <td>0.243850</td>\n",
              "      <td>-0.333976</td>\n",
              "      <td>-0.435160</td>\n",
              "      <td>0.293459</td>\n",
              "      <td>-0.612370</td>\n",
              "      <td>-0.720078</td>\n",
              "      <td>0.659913</td>\n",
              "      <td>-0.888009</td>\n",
              "      <td>-0.857562</td>\n",
              "      <td>-0.731654</td>\n",
              "      <td>0.865144</td>\n",
              "      <td>1.000000</td>\n",
              "      <td>-0.354937</td>\n",
              "      <td>0.333431</td>\n",
              "      <td>-0.199225</td>\n",
              "      <td>0.079973</td>\n",
              "      <td>-0.469124</td>\n",
              "      <td>-0.023577</td>\n",
              "      <td>0.456804</td>\n",
              "    </tr>\n",
              "    <tr>\n",
              "      <th>PctWhite</th>\n",
              "      <td>-0.134860</td>\n",
              "      <td>-0.190650</td>\n",
              "      <td>-0.031335</td>\n",
              "      <td>0.174797</td>\n",
              "      <td>-0.201226</td>\n",
              "      <td>-0.508448</td>\n",
              "      <td>0.017619</td>\n",
              "      <td>0.029777</td>\n",
              "      <td>0.380859</td>\n",
              "      <td>0.314168</td>\n",
              "      <td>-0.168646</td>\n",
              "      <td>0.679982</td>\n",
              "      <td>-0.130548</td>\n",
              "      <td>0.046367</td>\n",
              "      <td>0.097666</td>\n",
              "      <td>0.055391</td>\n",
              "      <td>0.185501</td>\n",
              "      <td>0.040018</td>\n",
              "      <td>0.267850</td>\n",
              "      <td>-0.494177</td>\n",
              "      <td>0.412942</td>\n",
              "      <td>0.301962</td>\n",
              "      <td>0.255513</td>\n",
              "      <td>-0.137478</td>\n",
              "      <td>-0.354937</td>\n",
              "      <td>1.000000</td>\n",
              "      <td>-0.861578</td>\n",
              "      <td>-0.248998</td>\n",
              "      <td>-0.227852</td>\n",
              "      <td>0.599298</td>\n",
              "      <td>0.011486</td>\n",
              "      <td>-0.173265</td>\n",
              "    </tr>\n",
              "    <tr>\n",
              "      <th>PctBlack</th>\n",
              "      <td>0.033512</td>\n",
              "      <td>0.092127</td>\n",
              "      <td>0.118791</td>\n",
              "      <td>-0.268332</td>\n",
              "      <td>0.086081</td>\n",
              "      <td>0.514195</td>\n",
              "      <td>-0.014936</td>\n",
              "      <td>-0.005716</td>\n",
              "      <td>-0.240541</td>\n",
              "      <td>-0.158247</td>\n",
              "      <td>0.046055</td>\n",
              "      <td>-0.643030</td>\n",
              "      <td>0.102803</td>\n",
              "      <td>-0.017107</td>\n",
              "      <td>-0.076333</td>\n",
              "      <td>-0.093302</td>\n",
              "      <td>-0.030263</td>\n",
              "      <td>-0.145587</td>\n",
              "      <td>-0.327171</td>\n",
              "      <td>0.471726</td>\n",
              "      <td>-0.348425</td>\n",
              "      <td>-0.276415</td>\n",
              "      <td>-0.233485</td>\n",
              "      <td>0.193698</td>\n",
              "      <td>0.333431</td>\n",
              "      <td>-0.861578</td>\n",
              "      <td>1.000000</td>\n",
              "      <td>0.024613</td>\n",
              "      <td>-0.014764</td>\n",
              "      <td>-0.589742</td>\n",
              "      <td>-0.073013</td>\n",
              "      <td>0.250954</td>\n",
              "    </tr>\n",
              "    <tr>\n",
              "      <th>PctAsian</th>\n",
              "      <td>0.440741</td>\n",
              "      <td>0.456169</td>\n",
              "      <td>0.002370</td>\n",
              "      <td>0.450907</td>\n",
              "      <td>0.499890</td>\n",
              "      <td>-0.163345</td>\n",
              "      <td>0.065682</td>\n",
              "      <td>-0.024078</td>\n",
              "      <td>-0.245138</td>\n",
              "      <td>-0.264226</td>\n",
              "      <td>0.115502</td>\n",
              "      <td>-0.140618</td>\n",
              "      <td>-0.215153</td>\n",
              "      <td>-0.219707</td>\n",
              "      <td>0.186394</td>\n",
              "      <td>0.372047</td>\n",
              "      <td>-0.471938</td>\n",
              "      <td>0.474249</td>\n",
              "      <td>0.242171</td>\n",
              "      <td>-0.027919</td>\n",
              "      <td>0.205740</td>\n",
              "      <td>0.312694</td>\n",
              "      <td>0.305039</td>\n",
              "      <td>-0.323300</td>\n",
              "      <td>-0.199225</td>\n",
              "      <td>-0.248998</td>\n",
              "      <td>0.024613</td>\n",
              "      <td>1.000000</td>\n",
              "      <td>0.209729</td>\n",
              "      <td>-0.081754</td>\n",
              "      <td>-0.056296</td>\n",
              "      <td>-0.202352</td>\n",
              "    </tr>\n",
              "    <tr>\n",
              "      <th>PctOtherRace</th>\n",
              "      <td>0.207671</td>\n",
              "      <td>0.213360</td>\n",
              "      <td>-0.204575</td>\n",
              "      <td>0.087813</td>\n",
              "      <td>0.244680</td>\n",
              "      <td>0.038812</td>\n",
              "      <td>-0.024420</td>\n",
              "      <td>-0.028023</td>\n",
              "      <td>-0.274713</td>\n",
              "      <td>-0.279382</td>\n",
              "      <td>0.219717</td>\n",
              "      <td>-0.092956</td>\n",
              "      <td>0.107053</td>\n",
              "      <td>-0.066336</td>\n",
              "      <td>-0.057322</td>\n",
              "      <td>0.032151</td>\n",
              "      <td>-0.286184</td>\n",
              "      <td>0.053122</td>\n",
              "      <td>0.065266</td>\n",
              "      <td>0.031767</td>\n",
              "      <td>-0.170259</td>\n",
              "      <td>-0.084857</td>\n",
              "      <td>-0.062856</td>\n",
              "      <td>-0.080790</td>\n",
              "      <td>0.079973</td>\n",
              "      <td>-0.227852</td>\n",
              "      <td>-0.014764</td>\n",
              "      <td>0.209729</td>\n",
              "      <td>1.000000</td>\n",
              "      <td>-0.023735</td>\n",
              "      <td>0.062731</td>\n",
              "      <td>-0.189210</td>\n",
              "    </tr>\n",
              "    <tr>\n",
              "      <th>PctMarriedHouseholds</th>\n",
              "      <td>-0.095842</td>\n",
              "      <td>-0.161171</td>\n",
              "      <td>-0.155923</td>\n",
              "      <td>0.448764</td>\n",
              "      <td>-0.128920</td>\n",
              "      <td>-0.606798</td>\n",
              "      <td>-0.045476</td>\n",
              "      <td>0.031896</td>\n",
              "      <td>0.216806</td>\n",
              "      <td>0.148140</td>\n",
              "      <td>0.109731</td>\n",
              "      <td>0.870629</td>\n",
              "      <td>0.011099</td>\n",
              "      <td>0.105534</td>\n",
              "      <td>-0.050415</td>\n",
              "      <td>-0.002344</td>\n",
              "      <td>0.058844</td>\n",
              "      <td>0.100802</td>\n",
              "      <td>0.322881</td>\n",
              "      <td>-0.471690</td>\n",
              "      <td>0.429503</td>\n",
              "      <td>0.400152</td>\n",
              "      <td>0.325264</td>\n",
              "      <td>-0.364237</td>\n",
              "      <td>-0.469124</td>\n",
              "      <td>0.599298</td>\n",
              "      <td>-0.589742</td>\n",
              "      <td>-0.081754</td>\n",
              "      <td>-0.023735</td>\n",
              "      <td>1.000000</td>\n",
              "      <td>0.114751</td>\n",
              "      <td>-0.298414</td>\n",
              "    </tr>\n",
              "    <tr>\n",
              "      <th>BirthRate</th>\n",
              "      <td>-0.028986</td>\n",
              "      <td>-0.070212</td>\n",
              "      <td>-0.113258</td>\n",
              "      <td>-0.005879</td>\n",
              "      <td>-0.054911</td>\n",
              "      <td>-0.037040</td>\n",
              "      <td>0.008558</td>\n",
              "      <td>0.000633</td>\n",
              "      <td>-0.086324</td>\n",
              "      <td>-0.079924</td>\n",
              "      <td>0.070558</td>\n",
              "      <td>0.164501</td>\n",
              "      <td>0.120901</td>\n",
              "      <td>0.030580</td>\n",
              "      <td>-0.060074</td>\n",
              "      <td>-0.114157</td>\n",
              "      <td>-0.001057</td>\n",
              "      <td>-0.052914</td>\n",
              "      <td>0.122682</td>\n",
              "      <td>-0.097809</td>\n",
              "      <td>-0.017357</td>\n",
              "      <td>-0.029667</td>\n",
              "      <td>-0.082248</td>\n",
              "      <td>-0.038881</td>\n",
              "      <td>-0.023577</td>\n",
              "      <td>0.011486</td>\n",
              "      <td>-0.073013</td>\n",
              "      <td>-0.056296</td>\n",
              "      <td>0.062731</td>\n",
              "      <td>0.114751</td>\n",
              "      <td>1.000000</td>\n",
              "      <td>-0.088322</td>\n",
              "    </tr>\n",
              "    <tr>\n",
              "      <th>TARGET_deathRate</th>\n",
              "      <td>-0.130745</td>\n",
              "      <td>-0.074008</td>\n",
              "      <td>0.467683</td>\n",
              "      <td>-0.433311</td>\n",
              "      <td>-0.111470</td>\n",
              "      <td>0.427118</td>\n",
              "      <td>-0.023890</td>\n",
              "      <td>0.002772</td>\n",
              "      <td>-0.002006</td>\n",
              "      <td>0.034693</td>\n",
              "      <td>-0.030288</td>\n",
              "      <td>-0.262946</td>\n",
              "      <td>0.075815</td>\n",
              "      <td>0.284328</td>\n",
              "      <td>-0.206337</td>\n",
              "      <td>-0.292220</td>\n",
              "      <td>0.403449</td>\n",
              "      <td>-0.480939</td>\n",
              "      <td>-0.414695</td>\n",
              "      <td>0.379085</td>\n",
              "      <td>-0.382859</td>\n",
              "      <td>-0.364386</td>\n",
              "      <td>-0.257117</td>\n",
              "      <td>0.422291</td>\n",
              "      <td>0.456804</td>\n",
              "      <td>-0.173265</td>\n",
              "      <td>0.250954</td>\n",
              "      <td>-0.202352</td>\n",
              "      <td>-0.189210</td>\n",
              "      <td>-0.298414</td>\n",
              "      <td>-0.088322</td>\n",
              "      <td>1.000000</td>\n",
              "    </tr>\n",
              "  </tbody>\n",
              "</table>\n",
              "</div>"
            ],
            "text/plain": [
              "                         avgAnnCount  ...  TARGET_deathRate\n",
              "avgAnnCount                 1.000000  ...         -0.130745\n",
              "avgDeathsPerYear            0.923935  ...         -0.074008\n",
              "incidenceRate               0.093793  ...          0.467683\n",
              "medIncome                   0.292551  ...         -0.433311\n",
              "popEst2015                  0.907281  ...         -0.111470\n",
              "povertyPercent             -0.153511  ...          0.427118\n",
              "studyPerCap                 0.070595  ...         -0.023890\n",
              "MedianAge                  -0.018056  ...          0.002772\n",
              "MedianAgeMale              -0.117826  ...         -0.002006\n",
              "MedianAgeFemale            -0.118879  ...          0.034693\n",
              "AvgHouseholdSize            0.056932  ...         -0.030288\n",
              "PercentMarried             -0.092258  ...         -0.262946\n",
              "PctNoHS18_24               -0.149731  ...          0.075815\n",
              "PctHS18_24                 -0.177809  ...          0.284328\n",
              "PctSomeCol18_24             0.135715  ...         -0.206337\n",
              "PctBachDeg18_24             0.293842  ...         -0.292220\n",
              "PctHS25_Over               -0.314156  ...          0.403449\n",
              "PctBachDeg25_Over           0.337281  ...         -0.480939\n",
              "PctEmployed16_Over          0.211518  ...         -0.414695\n",
              "PctUnemployed16_Over       -0.017797  ...          0.379085\n",
              "PctPrivateCoverage          0.151717  ...         -0.382859\n",
              "PctPrivateCoverageAlone     0.223735  ...         -0.364386\n",
              "PctEmpPrivCoverage          0.217377  ...         -0.257117\n",
              "PctPublicCoverage          -0.184398  ...          0.422291\n",
              "PctPublicCoverageAlone     -0.110135  ...          0.456804\n",
              "PctWhite                   -0.134860  ...         -0.173265\n",
              "PctBlack                    0.033512  ...          0.250954\n",
              "PctAsian                    0.440741  ...         -0.202352\n",
              "PctOtherRace                0.207671  ...         -0.189210\n",
              "PctMarriedHouseholds       -0.095842  ...         -0.298414\n",
              "BirthRate                  -0.028986  ...         -0.088322\n",
              "TARGET_deathRate           -0.130745  ...          1.000000\n",
              "\n",
              "[32 rows x 32 columns]"
            ]
          },
          "metadata": {
            "tags": []
          },
          "execution_count": 10
        }
      ]
    },
    {
      "cell_type": "code",
      "metadata": {
        "colab": {
          "base_uri": "https://localhost:8080/",
          "height": 837
        },
        "id": "IDk0Du6F_qey",
        "outputId": "d4f12b05-cb17-49ce-8859-057df0851d03"
      },
      "source": [
        "plt.figure(figsize=(16,12))\n",
        "sns.heatmap(cancer_data.corr())"
      ],
      "execution_count": null,
      "outputs": [
        {
          "output_type": "execute_result",
          "data": {
            "text/plain": [
              "<matplotlib.axes._subplots.AxesSubplot at 0x7fd1a8ef7e10>"
            ]
          },
          "metadata": {
            "tags": []
          },
          "execution_count": 11
        },
        {
          "output_type": "display_data",
          "data": {
            "image/png": "[encoded data removed]",
            "text/plain": [
              "<Figure size 1152x864 with 2 Axes>"
            ]
          },
          "metadata": {
            "tags": [],
            "needs_background": "light"
          }
        }
      ]
    },
    {
      "cell_type": "markdown",
      "metadata": {
        "id": "vm6nom4PVw_R"
      },
      "source": [
        "We will drop binnedInc and Geography because we do not know enough to separate the object into useful numbers."
      ]
    },
    {
      "cell_type": "code",
      "metadata": {
        "id": "yLOZplznVwsF"
      },
      "source": [
        "cancer_data=cancer_data.drop(['binnedInc', 'Geography'], axis=1)"
      ],
      "execution_count": null,
      "outputs": []
    },
    {
      "cell_type": "markdown",
      "metadata": {
        "id": "-6Xcy9FeaWBd"
      },
      "source": [
        "### Separate the Input and Target Features of the data"
      ]
    },
    {
      "cell_type": "markdown",
      "metadata": {
        "id": "_xyMo7eWCdZ6"
      },
      "source": [
        "Input features: independent variables\n",
        "\n",
        "Target feature: dependent variable, TARGET_deathRate"
      ]
    },
    {
      "cell_type": "code",
      "metadata": {
        "id": "yxHNqG1PaWBd"
      },
      "source": [
        "X = cancer_data.drop('TARGET_deathRate', axis  = 1)\n",
        "y = cancer_data['TARGET_deathRate']"
      ],
      "execution_count": null,
      "outputs": []
    },
    {
      "cell_type": "markdown",
      "metadata": {
        "id": "Bsyki2hjaWBd"
      },
      "source": [
        "### Split the data into Train and Test Sets"
      ]
    },
    {
      "cell_type": "code",
      "metadata": {
        "id": "nMPnzPZ2aWBd"
      },
      "source": [
        "X_train, X_test, y_train, y_test = train_test_split(X, y, test_size=0.2, random_state=1)"
      ],
      "execution_count": null,
      "outputs": []
    },
    {
      "cell_type": "markdown",
      "metadata": {
        "id": "o5UZz7b9I9eJ"
      },
      "source": [
        "## Task 2"
      ]
    },
    {
      "cell_type": "markdown",
      "metadata": {
        "id": "kNuCKaCkaWBd"
      },
      "source": [
        "### Perform Data Preparation Steps"
      ]
    },
    {
      "cell_type": "markdown",
      "metadata": {
        "id": "yhijngwoD1fB"
      },
      "source": [
        "Check for missing values"
      ]
    },
    {
      "cell_type": "code",
      "metadata": {
        "id": "5zj3nJaHaWBd",
        "colab": {
          "base_uri": "https://localhost:8080/"
        },
        "outputId": "9e6134d9-c8ef-49af-b8e6-64b1f619a078"
      },
      "source": [
        "cancer_data.isnull().sum()"
      ],
      "execution_count": null,
      "outputs": [
        {
          "output_type": "execute_result",
          "data": {
            "text/plain": [
              "avgAnnCount                   0\n",
              "avgDeathsPerYear              0\n",
              "incidenceRate                 0\n",
              "medIncome                     0\n",
              "popEst2015                    0\n",
              "povertyPercent                0\n",
              "studyPerCap                   0\n",
              "MedianAge                     0\n",
              "MedianAgeMale                 0\n",
              "MedianAgeFemale               0\n",
              "AvgHouseholdSize              0\n",
              "PercentMarried                0\n",
              "PctNoHS18_24                  0\n",
              "PctHS18_24                    0\n",
              "PctSomeCol18_24            2266\n",
              "PctBachDeg18_24               0\n",
              "PctHS25_Over                  0\n",
              "PctBachDeg25_Over             0\n",
              "PctEmployed16_Over          152\n",
              "PctUnemployed16_Over          0\n",
              "PctPrivateCoverage            0\n",
              "PctPrivateCoverageAlone     604\n",
              "PctEmpPrivCoverage            0\n",
              "PctPublicCoverage             0\n",
              "PctPublicCoverageAlone        0\n",
              "PctWhite                      0\n",
              "PctBlack                      0\n",
              "PctAsian                      0\n",
              "PctOtherRace                  0\n",
              "PctMarriedHouseholds          0\n",
              "BirthRate                     0\n",
              "TARGET_deathRate              0\n",
              "dtype: int64"
            ]
          },
          "metadata": {
            "tags": []
          },
          "execution_count": 15
        }
      ]
    },
    {
      "cell_type": "markdown",
      "metadata": {
        "id": "RYfA5QNRHE2o"
      },
      "source": [
        "### Replace missing values"
      ]
    },
    {
      "cell_type": "markdown",
      "metadata": {
        "id": "gWQ2_EoFHGX0"
      },
      "source": [
        "PctSomeCol18_24 "
      ]
    },
    {
      "cell_type": "code",
      "metadata": {
        "id": "wKt0cVOaHJTV",
        "colab": {
          "base_uri": "https://localhost:8080/"
        },
        "outputId": "209b1c8d-d120-45f5-dff2-76ebe7e1ac7c"
      },
      "source": [
        "cancer_data['PctSomeCol18_24'].describe()"
      ],
      "execution_count": null,
      "outputs": [
        {
          "output_type": "execute_result",
          "data": {
            "text/plain": [
              "count    3051.000000\n",
              "mean       41.247898\n",
              "std         5.631254\n",
              "min         7.100000\n",
              "25%        41.247898\n",
              "50%        41.247898\n",
              "75%        41.247898\n",
              "max        79.000000\n",
              "Name: PctSomeCol18_24, dtype: float64"
            ]
          },
          "metadata": {
            "tags": []
          },
          "execution_count": 24
        }
      ]
    },
    {
      "cell_type": "markdown",
      "metadata": {
        "id": "EEol5TA6sepq"
      },
      "source": [
        "Since PctSomeColl18_24 are floats and its histogram is somewhat normally distributed, we will replace the missing values with the mean."
      ]
    },
    {
      "cell_type": "code",
      "metadata": {
        "id": "CUKENTKBtqxA"
      },
      "source": [
        "cancer_data['PctSomeCol18_24']=cancer_data['PctSomeCol18_24'].fillna(cancer_data['PctSomeCol18_24'].mean())"
      ],
      "execution_count": null,
      "outputs": []
    },
    {
      "cell_type": "markdown",
      "metadata": {
        "id": "0vmlTP8FHJkz"
      },
      "source": [
        "PctEmployed16_Over          \n"
      ]
    },
    {
      "cell_type": "code",
      "metadata": {
        "id": "GE8P0Y9-HMzI",
        "colab": {
          "base_uri": "https://localhost:8080/"
        },
        "outputId": "23715161-932d-4696-bd80-e2f4446ffa82"
      },
      "source": [
        "cancer_data['PctEmployed16_Over'].describe()"
      ],
      "execution_count": null,
      "outputs": [
        {
          "output_type": "execute_result",
          "data": {
            "text/plain": [
              "count    3051.000000\n",
              "mean       54.115626\n",
              "std         8.059009\n",
              "min        17.600000\n",
              "25%        48.900000\n",
              "50%        54.115626\n",
              "75%        60.050000\n",
              "max        76.500000\n",
              "Name: PctEmployed16_Over, dtype: float64"
            ]
          },
          "metadata": {
            "tags": []
          },
          "execution_count": 26
        }
      ]
    },
    {
      "cell_type": "markdown",
      "metadata": {
        "id": "iF-8UpoUxG_0"
      },
      "source": [
        "Since PctEmployed16_Over are floats, we will replace the missing values with the mean.\n",
        "\n"
      ]
    },
    {
      "cell_type": "code",
      "metadata": {
        "id": "FWQWTUDWxLMO"
      },
      "source": [
        "cancer_data['PctEmployed16_Over']=cancer_data['PctEmployed16_Over'].fillna(cancer_data['PctEmployed16_Over'].mean())"
      ],
      "execution_count": null,
      "outputs": []
    },
    {
      "cell_type": "markdown",
      "metadata": {
        "id": "8hK47ViuHNEH"
      },
      "source": [
        "PctPrivateCoverageAlone "
      ]
    },
    {
      "cell_type": "code",
      "metadata": {
        "id": "jle0JeFHHPH8",
        "colab": {
          "base_uri": "https://localhost:8080/"
        },
        "outputId": "3211c371-f4c8-45cf-a4ca-03853c8a93f2"
      },
      "source": [
        "cancer_data['PctPrivateCoverageAlone'].describe()"
      ],
      "execution_count": null,
      "outputs": [
        {
          "output_type": "execute_result",
          "data": {
            "text/plain": [
              "count    3051.000000\n",
              "mean       48.573314\n",
              "std         8.965308\n",
              "min        16.800000\n",
              "25%        43.200000\n",
              "50%        48.573314\n",
              "75%        53.900000\n",
              "max        78.900000\n",
              "Name: PctPrivateCoverageAlone, dtype: float64"
            ]
          },
          "metadata": {
            "tags": []
          },
          "execution_count": 28
        }
      ]
    },
    {
      "cell_type": "markdown",
      "metadata": {
        "id": "l6zPonkbxdv4"
      },
      "source": [
        "Since PctPrivateCoverageAlone are floats, we will replace the missing values with the mean."
      ]
    },
    {
      "cell_type": "code",
      "metadata": {
        "id": "hQYdAfr1xiY3"
      },
      "source": [
        "cancer_data['PctPrivateCoverageAlone']=cancer_data['PctPrivateCoverageAlone'].fillna(cancer_data['PctPrivateCoverageAlone'].mean())"
      ],
      "execution_count": null,
      "outputs": []
    },
    {
      "cell_type": "code",
      "metadata": {
        "colab": {
          "base_uri": "https://localhost:8080/"
        },
        "id": "A3M5KZG4vsaW",
        "outputId": "d7a14d8d-c596-4752-f948-c380a911eee2"
      },
      "source": [
        "cancer_data.isnull().sum()"
      ],
      "execution_count": null,
      "outputs": [
        {
          "output_type": "execute_result",
          "data": {
            "text/plain": [
              "avgAnnCount                0\n",
              "avgDeathsPerYear           0\n",
              "incidenceRate              0\n",
              "medIncome                  0\n",
              "popEst2015                 0\n",
              "povertyPercent             0\n",
              "studyPerCap                0\n",
              "MedianAge                  0\n",
              "MedianAgeMale              0\n",
              "MedianAgeFemale            0\n",
              "AvgHouseholdSize           0\n",
              "PercentMarried             0\n",
              "PctNoHS18_24               0\n",
              "PctHS18_24                 0\n",
              "PctSomeCol18_24            0\n",
              "PctBachDeg18_24            0\n",
              "PctHS25_Over               0\n",
              "PctBachDeg25_Over          0\n",
              "PctEmployed16_Over         0\n",
              "PctUnemployed16_Over       0\n",
              "PctPrivateCoverage         0\n",
              "PctPrivateCoverageAlone    0\n",
              "PctEmpPrivCoverage         0\n",
              "PctPublicCoverage          0\n",
              "PctPublicCoverageAlone     0\n",
              "PctWhite                   0\n",
              "PctBlack                   0\n",
              "PctAsian                   0\n",
              "PctOtherRace               0\n",
              "PctMarriedHouseholds       0\n",
              "BirthRate                  0\n",
              "TARGET_deathRate           0\n",
              "dtype: int64"
            ]
          },
          "metadata": {
            "tags": []
          },
          "execution_count": 30
        }
      ]
    },
    {
      "cell_type": "markdown",
      "metadata": {
        "id": "40LhzzsdxnSL"
      },
      "source": [
        "The data no longer has missing values."
      ]
    },
    {
      "cell_type": "markdown",
      "metadata": {
        "id": "S0dkGscRl9hH"
      },
      "source": [
        "Split independent and dependent variables and build test/train seets again after filling missing values"
      ]
    },
    {
      "cell_type": "code",
      "metadata": {
        "id": "2RAIZqfEYomz"
      },
      "source": [
        "X = cancer_data.drop('TARGET_deathRate', axis  = 1)\n",
        "y = cancer_data['TARGET_deathRate']"
      ],
      "execution_count": null,
      "outputs": []
    },
    {
      "cell_type": "code",
      "metadata": {
        "id": "n78o9mBzYdcH"
      },
      "source": [
        "X_train, X_test, y_train, y_test = train_test_split(X, y, test_size=0.2, random_state=1)"
      ],
      "execution_count": null,
      "outputs": []
    },
    {
      "cell_type": "markdown",
      "metadata": {
        "id": "3homAQVbaWBd"
      },
      "source": [
        "## Task 3"
      ]
    },
    {
      "cell_type": "markdown",
      "metadata": {
        "id": "M3GISQkNaWBd"
      },
      "source": [
        "### Build any Machine Learning Model of your choice"
      ]
    },
    {
      "cell_type": "markdown",
      "metadata": {
        "id": "wkNiJXJgYlHa"
      },
      "source": [
        "LINEAR REGRESSION"
      ]
    },
    {
      "cell_type": "code",
      "metadata": {
        "colab": {
          "base_uri": "https://localhost:8080/"
        },
        "id": "O50QX8Y_Ym2c",
        "outputId": "66dac594-e2e1-45b9-ae9b-a89cdf3e6a5c"
      },
      "source": [
        "linModel = LinearRegression()   \n",
        "linModel.fit(X_train,y_train)"
      ],
      "execution_count": null,
      "outputs": [
        {
          "output_type": "execute_result",
          "data": {
            "text/plain": [
              "LinearRegression(copy_X=True, fit_intercept=True, n_jobs=None, normalize=False)"
            ]
          },
          "metadata": {
            "tags": []
          },
          "execution_count": 89
        }
      ]
    },
    {
      "cell_type": "markdown",
      "metadata": {
        "id": "GlytbSbgaWBd"
      },
      "source": [
        "### Evaluate your model with various Evaluation Metrics"
      ]
    },
    {
      "cell_type": "code",
      "metadata": {
        "colab": {
          "base_uri": "https://localhost:8080/"
        },
        "id": "KZgNBOQwmfqr",
        "outputId": "d42dd10f-93fc-4865-ee58-01937caaab29"
      },
      "source": [
        "# Model evaluation for training set\n",
        "test_target_pred = linModel.predict(X_train)\n",
        "mse = mean_squared_error(y_train, test_target_pred)\n",
        "rmse = (np.sqrt(mean_squared_error(y_train, test_target_pred)))\n",
        "r2 = r2_score(y_train, test_target_pred)\n",
        "print('MSE for train is {}'.format(mse))\n",
        "print('RMSE for train is {}'.format(rmse))\n",
        "print('R2 score for train is {}'.format(r2))"
      ],
      "execution_count": null,
      "outputs": [
        {
          "output_type": "stream",
          "text": [
            "MSE for train is 357.94276526576795\n",
            "RMSE for train is 18.919375393119296\n",
            "R2 score for train is 0.523102648825607\n"
          ],
          "name": "stdout"
        }
      ]
    },
    {
      "cell_type": "code",
      "metadata": {
        "id": "Jju88gE3aWBe",
        "colab": {
          "base_uri": "https://localhost:8080/"
        },
        "outputId": "9bdf98a7-0960-4cee-9dcd-fc249d1d5ea3"
      },
      "source": [
        "# Model evaluation for testing set\n",
        "test_target_pred = linModel.predict(X_test)\n",
        "mse = mean_squared_error(y_test, test_target_pred)\n",
        "rmse = (np.sqrt(mean_squared_error(y_test, test_target_pred)))\n",
        "r2 = r2_score(y_test, test_target_pred)\n",
        "print('MSE for test is {}'.format(mse))\n",
        "print('RMSE for test is {}'.format(rmse))\n",
        "print('R2 score for test is {}'.format(r2))"
      ],
      "execution_count": null,
      "outputs": [
        {
          "output_type": "stream",
          "text": [
            "MSE for test is 336.62093663041856\n",
            "RMSE for test is 18.347232397024314\n",
            "R2 score for test is 0.5774864987983328\n"
          ],
          "name": "stdout"
        }
      ]
    },
    {
      "cell_type": "markdown",
      "metadata": {
        "id": "R95sxbx3iHxz"
      },
      "source": [
        "### Try out other Machine Learning Models and Evaluate them\n"
      ]
    },
    {
      "cell_type": "markdown",
      "metadata": {
        "id": "vS8wxDhUiIzL"
      },
      "source": [
        "RANDOM FOREST REGRESSOR"
      ]
    },
    {
      "cell_type": "code",
      "metadata": {
        "colab": {
          "base_uri": "https://localhost:8080/"
        },
        "id": "nrJ0cfWhigUn",
        "outputId": "49589f3a-8520-4cf8-b561-351c3935efb8"
      },
      "source": [
        "forest = RandomForestRegressor()\n",
        "forest.fit(X_train, y_train)"
      ],
      "execution_count": null,
      "outputs": [
        {
          "output_type": "execute_result",
          "data": {
            "text/plain": [
              "RandomForestRegressor(bootstrap=True, ccp_alpha=0.0, criterion='mse',\n",
              "                      max_depth=None, max_features='auto', max_leaf_nodes=None,\n",
              "                      max_samples=None, min_impurity_decrease=0.0,\n",
              "                      min_impurity_split=None, min_samples_leaf=1,\n",
              "                      min_samples_split=2, min_weight_fraction_leaf=0.0,\n",
              "                      n_estimators=100, n_jobs=None, oob_score=False,\n",
              "                      random_state=None, verbose=0, warm_start=False)"
            ]
          },
          "metadata": {
            "tags": []
          },
          "execution_count": 117
        }
      ]
    },
    {
      "cell_type": "code",
      "metadata": {
        "colab": {
          "base_uri": "https://localhost:8080/"
        },
        "id": "t-T7fqFqiu1J",
        "outputId": "209e73e8-b88b-4508-8a21-ca582c0abe7e"
      },
      "source": [
        "# Model evaluation for training set\n",
        "test_target_pred = forest.predict(X_train)\n",
        "mse = mean_squared_error(y_train, test_target_pred)\n",
        "rmse = (np.sqrt(mean_squared_error(y_train, test_target_pred)))\n",
        "r2 = r2_score(y_train, test_target_pred)\n",
        "print('MSE for train is {}'.format(mse))\n",
        "print('RMSE for train is {}'.format(rmse))\n",
        "print('R2 score for train is {}'.format(r2))"
      ],
      "execution_count": null,
      "outputs": [
        {
          "output_type": "stream",
          "text": [
            "MSE for train is 31.74642047295075\n",
            "RMSE for train is 5.634396194176511\n",
            "R2 score for train is 0.9577033389078904\n"
          ],
          "name": "stdout"
        }
      ]
    },
    {
      "cell_type": "code",
      "metadata": {
        "colab": {
          "base_uri": "https://localhost:8080/"
        },
        "id": "h555EGLwiwa_",
        "outputId": "8e8d720e-c8c1-46ad-d75b-57f2787b87fe"
      },
      "source": [
        "# Model evaluation for testing set\n",
        "test_target_pred = forest.predict(X_test)\n",
        "mse = mean_squared_error(y_test, test_target_pred)\n",
        "rmse = (np.sqrt(mean_squared_error(y_test, test_target_pred)))\n",
        "r2 = r2_score(y_test, test_target_pred)\n",
        "print('MSE for test is {}'.format(mse))\n",
        "print('RMSE for test is {}'.format(rmse))\n",
        "print('R2 score for test is {}'.format(r2))"
      ],
      "execution_count": null,
      "outputs": [
        {
          "output_type": "stream",
          "text": [
            "MSE for test is 200.91803975941062\n",
            "RMSE for test is 14.174556069218204\n",
            "R2 score for test is 0.7478154945349491\n"
          ],
          "name": "stdout"
        }
      ]
    },
    {
      "cell_type": "markdown",
      "metadata": {
        "id": "ZM1_hZ8PaWBe"
      },
      "source": [
        "### Try out other Machine Learning Models and Evaluate them\n",
        "\n",
        "\n"
      ]
    },
    {
      "cell_type": "markdown",
      "metadata": {
        "id": "8VoLCE1exyit"
      },
      "source": [
        "DECISION TREE REGRESSOR"
      ]
    },
    {
      "cell_type": "code",
      "metadata": {
        "id": "WX8K9gDraWBe",
        "colab": {
          "base_uri": "https://localhost:8080/"
        },
        "outputId": "25cab2a4-dcaf-4370-ff01-048b5f4e6fb4"
      },
      "source": [
        "tree = DecisionTreeRegressor(max_depth=5)\n",
        "tree.fit(X_train, y_train)"
      ],
      "execution_count": null,
      "outputs": [
        {
          "output_type": "execute_result",
          "data": {
            "text/plain": [
              "DecisionTreeRegressor(ccp_alpha=0.0, criterion='mse', max_depth=5,\n",
              "                      max_features=None, max_leaf_nodes=None,\n",
              "                      min_impurity_decrease=0.0, min_impurity_split=None,\n",
              "                      min_samples_leaf=1, min_samples_split=2,\n",
              "                      min_weight_fraction_leaf=0.0, presort='deprecated',\n",
              "                      random_state=None, splitter='best')"
            ]
          },
          "metadata": {
            "tags": []
          },
          "execution_count": 39
        }
      ]
    },
    {
      "cell_type": "markdown",
      "metadata": {
        "id": "EbJDYLkUx3b3"
      },
      "source": [
        "### Evaluate your model with various Evaluation Metrics"
      ]
    },
    {
      "cell_type": "code",
      "metadata": {
        "colab": {
          "base_uri": "https://localhost:8080/"
        },
        "id": "rZ2c9DKCmsjJ",
        "outputId": "fa8dae72-7273-422e-f923-f57d6c34e651"
      },
      "source": [
        "# Model evaluation for training set\n",
        "test_target_pred = tree.predict(X_train)\n",
        "mse = mean_squared_error(y_train, test_target_pred)\n",
        "rmse = (np.sqrt(mean_squared_error(y_train, test_target_pred)))\n",
        "r2 = r2_score(y_train, test_target_pred)\n",
        "print('MSE for train is {}'.format(mse))\n",
        "print('RMSE for train is {}'.format(rmse))\n",
        "print('R2 score for train is {}'.format(r2))"
      ],
      "execution_count": null,
      "outputs": [
        {
          "output_type": "stream",
          "text": [
            "MSE for train is 342.5262000114853\n",
            "RMSE for train is 18.50746335972289\n",
            "R2 score for train is 0.5436425782428582\n"
          ],
          "name": "stdout"
        }
      ]
    },
    {
      "cell_type": "code",
      "metadata": {
        "colab": {
          "base_uri": "https://localhost:8080/"
        },
        "id": "5OIfGyU0x4Te",
        "outputId": "724705d0-c1c9-4844-c6a7-770e3750211d"
      },
      "source": [
        "# Model evaluation for testing set\n",
        "test_target_pred = tree.predict(X_test)\n",
        "mse = mean_squared_error(y_test, test_target_pred)\n",
        "rmse = (np.sqrt(mean_squared_error(y_test, test_target_pred)))\n",
        "r2 = r2_score(y_test, test_target_pred)\n",
        "print('MSE is {}'.format(mse))\n",
        "print('RMSE is {}'.format(rmse))\n",
        "print('R2 score is {}'.format(r2))"
      ],
      "execution_count": null,
      "outputs": [
        {
          "output_type": "stream",
          "text": [
            "MSE is 399.59551547659225\n",
            "RMSE is 19.989885329250697\n",
            "R2 score is 0.4984432578717882\n"
          ],
          "name": "stdout"
        }
      ]
    },
    {
      "cell_type": "markdown",
      "metadata": {
        "id": "-RGwT5rJjLww"
      },
      "source": [
        "The mean square error (MSE) and root mean square error (RMSE) is smaller in our random forest model than either our linear regression model or our decision tree regressor model for both testing and training data. Our random forest model also has a higher correlation, a higer R2 score than our linear regression or decision tree regressor models. However, the RMSE and R2 scores for training and testing data were closer together in the linear regression model and decision tree model than in the random forest model, meaning that our random forest model may have overfitted to the training data. "
      ]
    },
    {
      "cell_type": "markdown",
      "metadata": {
        "id": "eVHZUyJqaWBe"
      },
      "source": [
        "## Task 4"
      ]
    },
    {
      "cell_type": "markdown",
      "metadata": {
        "id": "HODz7FJtaWBe"
      },
      "source": [
        "### Perform Hyperparameter Tuning"
      ]
    },
    {
      "cell_type": "markdown",
      "metadata": {
        "id": "JjgvoOsOr7yH"
      },
      "source": [
        "GridSearchCV"
      ]
    },
    {
      "cell_type": "code",
      "metadata": {
        "colab": {
          "base_uri": "https://localhost:8080/"
        },
        "id": "-7TNP4TFwI8b",
        "outputId": "785ecafc-8e5e-4989-ec70-687b4f71ebe8"
      },
      "source": [
        "RandomForestRegressor().get_params().keys()\n"
      ],
      "execution_count": null,
      "outputs": [
        {
          "output_type": "execute_result",
          "data": {
            "text/plain": [
              "dict_keys(['bootstrap', 'ccp_alpha', 'criterion', 'max_depth', 'max_features', 'max_leaf_nodes', 'max_samples', 'min_impurity_decrease', 'min_impurity_split', 'min_samples_leaf', 'min_samples_split', 'min_weight_fraction_leaf', 'n_estimators', 'n_jobs', 'oob_score', 'random_state', 'verbose', 'warm_start'])"
            ]
          },
          "metadata": {
            "tags": []
          },
          "execution_count": 126
        }
      ]
    },
    {
      "cell_type": "code",
      "metadata": {
        "id": "TnTo9XRG4UQf"
      },
      "source": [
        "# Function from Day 9: Hyperparameter Tuning and Model Evaluation notebook\n",
        "def print_results(results):\n",
        "    print('BEST PARAMS: {}\\n'.format(results.best_params_))\n",
        "\n",
        "    means = results.cv_results_['mean_test_score']\n",
        "    stds = results.cv_results_['std_test_score']\n",
        "    for mean, std, params in zip(means, stds, results.cv_results_['params']):\n",
        "        print('{} (+/-{}) for {}'.format(round(mean, 3), round(std * 2, 3), params))"
      ],
      "execution_count": null,
      "outputs": []
    },
    {
      "cell_type": "code",
      "metadata": {
        "id": "CJOuMecmaWBe",
        "colab": {
          "base_uri": "https://localhost:8080/"
        },
        "outputId": "19209a25-b315-454a-b347-65bda67ab267"
      },
      "source": [
        "from sklearn.model_selection import GridSearchCV\n",
        "RF = RandomForestRegressor()\n",
        "parameters = {\n",
        "    'bootstrap': [True],\n",
        "    'max_depth': [10, 20],\n",
        "    'min_samples_leaf': [3, 4],\n",
        "    'min_samples_split': [4, 6],\n",
        "    'n_estimators': [100, 200],\n",
        "}\n",
        "cv = GridSearchCV(RF, parameters, cv=5, n_jobs=-1, verbose=2)\n",
        "cv.fit(X_train, y_train)\n"
      ],
      "execution_count": null,
      "outputs": [
        {
          "output_type": "stream",
          "text": [
            "Fitting 5 folds for each of 16 candidates, totalling 80 fits\n"
          ],
          "name": "stdout"
        },
        {
          "output_type": "stream",
          "text": [
            "[Parallel(n_jobs=-1)]: Using backend LokyBackend with 2 concurrent workers.\n",
            "[Parallel(n_jobs=-1)]: Done  37 tasks      | elapsed:  1.7min\n",
            "[Parallel(n_jobs=-1)]: Done  80 out of  80 | elapsed:  4.1min finished\n"
          ],
          "name": "stderr"
        },
        {
          "output_type": "execute_result",
          "data": {
            "text/plain": [
              "GridSearchCV(cv=5, error_score=nan,\n",
              "             estimator=RandomForestRegressor(bootstrap=True, ccp_alpha=0.0,\n",
              "                                             criterion='mse', max_depth=None,\n",
              "                                             max_features='auto',\n",
              "                                             max_leaf_nodes=None,\n",
              "                                             max_samples=None,\n",
              "                                             min_impurity_decrease=0.0,\n",
              "                                             min_impurity_split=None,\n",
              "                                             min_samples_leaf=1,\n",
              "                                             min_samples_split=2,\n",
              "                                             min_weight_fraction_leaf=0.0,\n",
              "                                             n_estimators=100, n_jobs=None,\n",
              "                                             oob_score=False, random_state=None,\n",
              "                                             verbose=0, warm_start=False),\n",
              "             iid='deprecated', n_jobs=-1,\n",
              "             param_grid={'bootstrap': [True], 'max_depth': [10, 20],\n",
              "                         'min_samples_leaf': [3, 4],\n",
              "                         'min_samples_split': [4, 6],\n",
              "                         'n_estimators': [100, 200]},\n",
              "             pre_dispatch='2*n_jobs', refit=True, return_train_score=False,\n",
              "             scoring=None, verbose=2)"
            ]
          },
          "metadata": {
            "tags": []
          },
          "execution_count": 128
        }
      ]
    },
    {
      "cell_type": "code",
      "metadata": {
        "colab": {
          "base_uri": "https://localhost:8080/"
        },
        "id": "XA51z4kI7IPR",
        "outputId": "16705fce-229b-41a8-d4d9-14b7c24907c5"
      },
      "source": [
        "cv.best_score_"
      ],
      "execution_count": null,
      "outputs": [
        {
          "output_type": "execute_result",
          "data": {
            "text/plain": [
              "0.6400051264847617"
            ]
          },
          "metadata": {
            "tags": []
          },
          "execution_count": 129
        }
      ]
    },
    {
      "cell_type": "code",
      "metadata": {
        "colab": {
          "base_uri": "https://localhost:8080/"
        },
        "id": "jnG0EXjV7Kwd",
        "outputId": "ac59762f-8e4d-4fc5-99c7-fe316999dccd"
      },
      "source": [
        "print(cv.best_estimator_)"
      ],
      "execution_count": null,
      "outputs": [
        {
          "output_type": "stream",
          "text": [
            "RandomForestRegressor(bootstrap=True, ccp_alpha=0.0, criterion='mse',\n",
            "                      max_depth=20, max_features='auto', max_leaf_nodes=None,\n",
            "                      max_samples=None, min_impurity_decrease=0.0,\n",
            "                      min_impurity_split=None, min_samples_leaf=3,\n",
            "                      min_samples_split=4, min_weight_fraction_leaf=0.0,\n",
            "                      n_estimators=200, n_jobs=None, oob_score=False,\n",
            "                      random_state=None, verbose=0, warm_start=False)\n"
          ],
          "name": "stdout"
        }
      ]
    },
    {
      "cell_type": "markdown",
      "metadata": {
        "id": "d28iH4_MaWBe"
      },
      "source": [
        "### Evaluate your model "
      ]
    },
    {
      "cell_type": "code",
      "metadata": {
        "id": "wKq_Rxl3aWBe",
        "colab": {
          "base_uri": "https://localhost:8080/"
        },
        "outputId": "293eb31f-94bc-4a0c-a1dc-d2a9c0a18b59"
      },
      "source": [
        "rForest2 = RandomForestRegressor(bootstrap=True, ccp_alpha=0.0, criterion='mse',\n",
        "                      max_depth=20, max_features='auto', max_leaf_nodes=None,\n",
        "                      max_samples=None, min_impurity_decrease=0.0,\n",
        "                      min_impurity_split=None, min_samples_leaf=3,\n",
        "                      min_samples_split=4, min_weight_fraction_leaf=0.0,\n",
        "                      n_estimators=200, n_jobs=None, oob_score=False,\n",
        "                      random_state=None, verbose=0, warm_start=False)   \n",
        "rForest2.fit(X_train,y_train)"
      ],
      "execution_count": null,
      "outputs": [
        {
          "output_type": "execute_result",
          "data": {
            "text/plain": [
              "RandomForestRegressor(bootstrap=True, ccp_alpha=0.0, criterion='mse',\n",
              "                      max_depth=20, max_features='auto', max_leaf_nodes=None,\n",
              "                      max_samples=None, min_impurity_decrease=0.0,\n",
              "                      min_impurity_split=None, min_samples_leaf=3,\n",
              "                      min_samples_split=4, min_weight_fraction_leaf=0.0,\n",
              "                      n_estimators=200, n_jobs=None, oob_score=False,\n",
              "                      random_state=None, verbose=0, warm_start=False)"
            ]
          },
          "metadata": {
            "tags": []
          },
          "execution_count": 131
        }
      ]
    },
    {
      "cell_type": "code",
      "metadata": {
        "colab": {
          "base_uri": "https://localhost:8080/"
        },
        "id": "4UgQwonz7sQG",
        "outputId": "d48e3e34-5428-42ac-a2e1-db58e411303d"
      },
      "source": [
        "# Model evaluation for testing set\n",
        "pred = rForest2.predict(X_test)\n",
        "mse = mean_squared_error(y_test, pred)\n",
        "rmse = (np.sqrt(mean_squared_error(y_test, pred)))\n",
        "r2 = r2_score(y_test, pred)\n",
        "print('MSE for test is {}'.format(mse))\n",
        "print('RMSE for test is {}'.format(rmse))\n",
        "print('R2 score for test is {}'.format(r2))"
      ],
      "execution_count": null,
      "outputs": [
        {
          "output_type": "stream",
          "text": [
            "MSE for test is 216.80517395951892\n",
            "RMSE for test is 14.72430555101051\n",
            "R2 score for test is 0.7278745818806709\n"
          ],
          "name": "stdout"
        }
      ]
    },
    {
      "cell_type": "markdown",
      "metadata": {
        "id": "ec-Lb8Pj7y1P"
      },
      "source": [
        "The scores got a little worse after hyperparameter tuning."
      ]
    },
    {
      "cell_type": "markdown",
      "metadata": {
        "id": "psVszfmDaWBe"
      },
      "source": [
        "## Task 5"
      ]
    },
    {
      "cell_type": "markdown",
      "metadata": {
        "id": "ZB-XnSkSaWBe"
      },
      "source": [
        "### Use any Feature Selection Technique and observe if the model created by selected features performs better than the previous model"
      ]
    },
    {
      "cell_type": "markdown",
      "metadata": {
        "id": "mxsDKqBfsIJn"
      },
      "source": [
        "BORUTA"
      ]
    },
    {
      "cell_type": "code",
      "metadata": {
        "colab": {
          "base_uri": "https://localhost:8080/"
        },
        "id": "1CCr9LZZsI_T",
        "outputId": "9c8d39e2-dce6-4aa6-eceb-9465d8eda379"
      },
      "source": [
        "!pip install Boruta\n",
        "from boruta import BorutaPy"
      ],
      "execution_count": null,
      "outputs": [
        {
          "output_type": "stream",
          "text": [
            "Collecting Boruta\n",
            "\u001b[?25l  Downloading https://files.pythonhosted.org/packages/b2/11/583f4eac99d802c79af9217e1eff56027742a69e6c866b295cce6a5a8fc2/Boruta-0.3-py3-none-any.whl (56kB)\n",
            "\r\u001b[K     |█████▉                          | 10kB 19.1MB/s eta 0:00:01\r\u001b[K     |███████████▋                    | 20kB 24.1MB/s eta 0:00:01\r\u001b[K     |█████████████████▍              | 30kB 15.1MB/s eta 0:00:01\r\u001b[K     |███████████████████████▏        | 40kB 14.4MB/s eta 0:00:01\r\u001b[K     |█████████████████████████████   | 51kB 14.8MB/s eta 0:00:01\r\u001b[K     |████████████████████████████████| 61kB 4.7MB/s \n",
            "\u001b[?25hRequirement already satisfied: scipy>=0.17.0 in /usr/local/lib/python3.6/dist-packages (from Boruta) (1.4.1)\n",
            "Requirement already satisfied: numpy>=1.10.4 in /usr/local/lib/python3.6/dist-packages (from Boruta) (1.19.4)\n",
            "Requirement already satisfied: scikit-learn>=0.17.1 in /usr/local/lib/python3.6/dist-packages (from Boruta) (0.22.2.post1)\n",
            "Requirement already satisfied: joblib>=0.11 in /usr/local/lib/python3.6/dist-packages (from scikit-learn>=0.17.1->Boruta) (1.0.0)\n",
            "Installing collected packages: Boruta\n",
            "Successfully installed Boruta-0.3\n"
          ],
          "name": "stdout"
        }
      ]
    },
    {
      "cell_type": "code",
      "metadata": {
        "colab": {
          "base_uri": "https://localhost:8080/"
        },
        "id": "-VU1Bf2osMM6",
        "outputId": "3afcadc3-c478-46b5-9e6a-7a896f9ab1c1"
      },
      "source": [
        "RFR = RandomForestRegressor(random_state=1)\n",
        "boruta_selector = BorutaPy(RFR, n_estimators='auto', verbose=2, random_state=1)   # initialize the boruta selector\n",
        "boruta_selector.fit(np.array(X_train), np.array(y_train))       # fitting the boruta selector to get all relavent features. \n",
        "# NOTE: BorutaPy accepts numpy arrays only."
      ],
      "execution_count": null,
      "outputs": [
        {
          "output_type": "stream",
          "text": [
            "Iteration: \t1 / 100\n",
            "Confirmed: \t0\n",
            "Tentative: \t31\n",
            "Rejected: \t0\n",
            "Iteration: \t2 / 100\n",
            "Confirmed: \t0\n",
            "Tentative: \t31\n",
            "Rejected: \t0\n",
            "Iteration: \t3 / 100\n",
            "Confirmed: \t0\n",
            "Tentative: \t31\n",
            "Rejected: \t0\n",
            "Iteration: \t4 / 100\n",
            "Confirmed: \t0\n",
            "Tentative: \t31\n",
            "Rejected: \t0\n",
            "Iteration: \t5 / 100\n",
            "Confirmed: \t0\n",
            "Tentative: \t31\n",
            "Rejected: \t0\n",
            "Iteration: \t6 / 100\n",
            "Confirmed: \t0\n",
            "Tentative: \t31\n",
            "Rejected: \t0\n",
            "Iteration: \t7 / 100\n",
            "Confirmed: \t0\n",
            "Tentative: \t31\n",
            "Rejected: \t0\n",
            "Iteration: \t8 / 100\n",
            "Confirmed: \t15\n",
            "Tentative: \t13\n",
            "Rejected: \t3\n",
            "Iteration: \t9 / 100\n",
            "Confirmed: \t15\n",
            "Tentative: \t13\n",
            "Rejected: \t3\n",
            "Iteration: \t10 / 100\n",
            "Confirmed: \t15\n",
            "Tentative: \t13\n",
            "Rejected: \t3\n",
            "Iteration: \t11 / 100\n",
            "Confirmed: \t15\n",
            "Tentative: \t13\n",
            "Rejected: \t3\n",
            "Iteration: \t12 / 100\n",
            "Confirmed: \t20\n",
            "Tentative: \t8\n",
            "Rejected: \t3\n",
            "Iteration: \t13 / 100\n",
            "Confirmed: \t20\n",
            "Tentative: \t7\n",
            "Rejected: \t4\n",
            "Iteration: \t14 / 100\n",
            "Confirmed: \t20\n",
            "Tentative: \t7\n",
            "Rejected: \t4\n",
            "Iteration: \t15 / 100\n",
            "Confirmed: \t20\n",
            "Tentative: \t7\n",
            "Rejected: \t4\n",
            "Iteration: \t16 / 100\n",
            "Confirmed: \t21\n",
            "Tentative: \t6\n",
            "Rejected: \t4\n",
            "Iteration: \t17 / 100\n",
            "Confirmed: \t21\n",
            "Tentative: \t6\n",
            "Rejected: \t4\n",
            "Iteration: \t18 / 100\n",
            "Confirmed: \t21\n",
            "Tentative: \t6\n",
            "Rejected: \t4\n",
            "Iteration: \t19 / 100\n",
            "Confirmed: \t21\n",
            "Tentative: \t6\n",
            "Rejected: \t4\n",
            "Iteration: \t20 / 100\n",
            "Confirmed: \t21\n",
            "Tentative: \t6\n",
            "Rejected: \t4\n",
            "Iteration: \t21 / 100\n",
            "Confirmed: \t21\n",
            "Tentative: \t6\n",
            "Rejected: \t4\n",
            "Iteration: \t22 / 100\n",
            "Confirmed: \t21\n",
            "Tentative: \t6\n",
            "Rejected: \t4\n",
            "Iteration: \t23 / 100\n",
            "Confirmed: \t21\n",
            "Tentative: \t6\n",
            "Rejected: \t4\n",
            "Iteration: \t24 / 100\n",
            "Confirmed: \t21\n",
            "Tentative: \t6\n",
            "Rejected: \t4\n",
            "Iteration: \t25 / 100\n",
            "Confirmed: \t21\n",
            "Tentative: \t6\n",
            "Rejected: \t4\n",
            "Iteration: \t26 / 100\n",
            "Confirmed: \t22\n",
            "Tentative: \t5\n",
            "Rejected: \t4\n",
            "Iteration: \t27 / 100\n",
            "Confirmed: \t22\n",
            "Tentative: \t5\n",
            "Rejected: \t4\n",
            "Iteration: \t28 / 100\n",
            "Confirmed: \t22\n",
            "Tentative: \t5\n",
            "Rejected: \t4\n",
            "Iteration: \t29 / 100\n",
            "Confirmed: \t22\n",
            "Tentative: \t5\n",
            "Rejected: \t4\n",
            "Iteration: \t30 / 100\n",
            "Confirmed: \t22\n",
            "Tentative: \t5\n",
            "Rejected: \t4\n",
            "Iteration: \t31 / 100\n",
            "Confirmed: \t22\n",
            "Tentative: \t5\n",
            "Rejected: \t4\n",
            "Iteration: \t32 / 100\n",
            "Confirmed: \t22\n",
            "Tentative: \t5\n",
            "Rejected: \t4\n",
            "Iteration: \t33 / 100\n",
            "Confirmed: \t22\n",
            "Tentative: \t5\n",
            "Rejected: \t4\n",
            "Iteration: \t34 / 100\n",
            "Confirmed: \t23\n",
            "Tentative: \t4\n",
            "Rejected: \t4\n",
            "Iteration: \t35 / 100\n",
            "Confirmed: \t23\n",
            "Tentative: \t4\n",
            "Rejected: \t4\n",
            "Iteration: \t36 / 100\n",
            "Confirmed: \t23\n",
            "Tentative: \t4\n",
            "Rejected: \t4\n",
            "Iteration: \t37 / 100\n",
            "Confirmed: \t23\n",
            "Tentative: \t4\n",
            "Rejected: \t4\n",
            "Iteration: \t38 / 100\n",
            "Confirmed: \t23\n",
            "Tentative: \t4\n",
            "Rejected: \t4\n",
            "Iteration: \t39 / 100\n",
            "Confirmed: \t23\n",
            "Tentative: \t4\n",
            "Rejected: \t4\n",
            "Iteration: \t40 / 100\n",
            "Confirmed: \t23\n",
            "Tentative: \t4\n",
            "Rejected: \t4\n",
            "Iteration: \t41 / 100\n",
            "Confirmed: \t23\n",
            "Tentative: \t4\n",
            "Rejected: \t4\n",
            "Iteration: \t42 / 100\n",
            "Confirmed: \t23\n",
            "Tentative: \t4\n",
            "Rejected: \t4\n",
            "Iteration: \t43 / 100\n",
            "Confirmed: \t23\n",
            "Tentative: \t4\n",
            "Rejected: \t4\n",
            "Iteration: \t44 / 100\n",
            "Confirmed: \t23\n",
            "Tentative: \t4\n",
            "Rejected: \t4\n",
            "Iteration: \t45 / 100\n",
            "Confirmed: \t23\n",
            "Tentative: \t4\n",
            "Rejected: \t4\n",
            "Iteration: \t46 / 100\n",
            "Confirmed: \t23\n",
            "Tentative: \t4\n",
            "Rejected: \t4\n",
            "Iteration: \t47 / 100\n",
            "Confirmed: \t23\n",
            "Tentative: \t4\n",
            "Rejected: \t4\n",
            "Iteration: \t48 / 100\n",
            "Confirmed: \t23\n",
            "Tentative: \t4\n",
            "Rejected: \t4\n",
            "Iteration: \t49 / 100\n",
            "Confirmed: \t23\n",
            "Tentative: \t4\n",
            "Rejected: \t4\n",
            "Iteration: \t50 / 100\n",
            "Confirmed: \t23\n",
            "Tentative: \t4\n",
            "Rejected: \t4\n",
            "Iteration: \t51 / 100\n",
            "Confirmed: \t23\n",
            "Tentative: \t4\n",
            "Rejected: \t4\n",
            "Iteration: \t52 / 100\n",
            "Confirmed: \t23\n",
            "Tentative: \t4\n",
            "Rejected: \t4\n",
            "Iteration: \t53 / 100\n",
            "Confirmed: \t23\n",
            "Tentative: \t4\n",
            "Rejected: \t4\n",
            "Iteration: \t54 / 100\n",
            "Confirmed: \t23\n",
            "Tentative: \t4\n",
            "Rejected: \t4\n",
            "Iteration: \t55 / 100\n",
            "Confirmed: \t23\n",
            "Tentative: \t4\n",
            "Rejected: \t4\n",
            "Iteration: \t56 / 100\n",
            "Confirmed: \t23\n",
            "Tentative: \t4\n",
            "Rejected: \t4\n",
            "Iteration: \t57 / 100\n",
            "Confirmed: \t23\n",
            "Tentative: \t4\n",
            "Rejected: \t4\n",
            "Iteration: \t58 / 100\n",
            "Confirmed: \t23\n",
            "Tentative: \t4\n",
            "Rejected: \t4\n",
            "Iteration: \t59 / 100\n",
            "Confirmed: \t24\n",
            "Tentative: \t3\n",
            "Rejected: \t4\n",
            "Iteration: \t60 / 100\n",
            "Confirmed: \t24\n",
            "Tentative: \t3\n",
            "Rejected: \t4\n",
            "Iteration: \t61 / 100\n",
            "Confirmed: \t24\n",
            "Tentative: \t3\n",
            "Rejected: \t4\n",
            "Iteration: \t62 / 100\n",
            "Confirmed: \t24\n",
            "Tentative: \t3\n",
            "Rejected: \t4\n",
            "Iteration: \t63 / 100\n",
            "Confirmed: \t24\n",
            "Tentative: \t3\n",
            "Rejected: \t4\n",
            "Iteration: \t64 / 100\n",
            "Confirmed: \t24\n",
            "Tentative: \t3\n",
            "Rejected: \t4\n",
            "Iteration: \t65 / 100\n",
            "Confirmed: \t24\n",
            "Tentative: \t3\n",
            "Rejected: \t4\n",
            "Iteration: \t66 / 100\n",
            "Confirmed: \t24\n",
            "Tentative: \t3\n",
            "Rejected: \t4\n",
            "Iteration: \t67 / 100\n",
            "Confirmed: \t24\n",
            "Tentative: \t3\n",
            "Rejected: \t4\n",
            "Iteration: \t68 / 100\n",
            "Confirmed: \t24\n",
            "Tentative: \t3\n",
            "Rejected: \t4\n",
            "Iteration: \t69 / 100\n",
            "Confirmed: \t24\n",
            "Tentative: \t3\n",
            "Rejected: \t4\n",
            "Iteration: \t70 / 100\n",
            "Confirmed: \t24\n",
            "Tentative: \t3\n",
            "Rejected: \t4\n",
            "Iteration: \t71 / 100\n",
            "Confirmed: \t24\n",
            "Tentative: \t3\n",
            "Rejected: \t4\n",
            "Iteration: \t72 / 100\n",
            "Confirmed: \t24\n",
            "Tentative: \t3\n",
            "Rejected: \t4\n",
            "Iteration: \t73 / 100\n",
            "Confirmed: \t24\n",
            "Tentative: \t3\n",
            "Rejected: \t4\n",
            "Iteration: \t74 / 100\n",
            "Confirmed: \t24\n",
            "Tentative: \t3\n",
            "Rejected: \t4\n",
            "Iteration: \t75 / 100\n",
            "Confirmed: \t24\n",
            "Tentative: \t3\n",
            "Rejected: \t4\n",
            "Iteration: \t76 / 100\n",
            "Confirmed: \t24\n",
            "Tentative: \t3\n",
            "Rejected: \t4\n",
            "Iteration: \t77 / 100\n",
            "Confirmed: \t24\n",
            "Tentative: \t3\n",
            "Rejected: \t4\n",
            "Iteration: \t78 / 100\n",
            "Confirmed: \t24\n",
            "Tentative: \t3\n",
            "Rejected: \t4\n",
            "Iteration: \t79 / 100\n",
            "Confirmed: \t24\n",
            "Tentative: \t3\n",
            "Rejected: \t4\n",
            "Iteration: \t80 / 100\n",
            "Confirmed: \t24\n",
            "Tentative: \t3\n",
            "Rejected: \t4\n",
            "Iteration: \t81 / 100\n",
            "Confirmed: \t24\n",
            "Tentative: \t3\n",
            "Rejected: \t4\n",
            "Iteration: \t82 / 100\n",
            "Confirmed: \t24\n",
            "Tentative: \t3\n",
            "Rejected: \t4\n",
            "Iteration: \t83 / 100\n",
            "Confirmed: \t24\n",
            "Tentative: \t3\n",
            "Rejected: \t4\n",
            "Iteration: \t84 / 100\n",
            "Confirmed: \t24\n",
            "Tentative: \t3\n",
            "Rejected: \t4\n",
            "Iteration: \t85 / 100\n",
            "Confirmed: \t24\n",
            "Tentative: \t3\n",
            "Rejected: \t4\n",
            "Iteration: \t86 / 100\n",
            "Confirmed: \t24\n",
            "Tentative: \t3\n",
            "Rejected: \t4\n",
            "Iteration: \t87 / 100\n",
            "Confirmed: \t24\n",
            "Tentative: \t3\n",
            "Rejected: \t4\n",
            "Iteration: \t88 / 100\n",
            "Confirmed: \t24\n",
            "Tentative: \t3\n",
            "Rejected: \t4\n",
            "Iteration: \t89 / 100\n",
            "Confirmed: \t24\n",
            "Tentative: \t3\n",
            "Rejected: \t4\n",
            "Iteration: \t90 / 100\n",
            "Confirmed: \t24\n",
            "Tentative: \t3\n",
            "Rejected: \t4\n",
            "Iteration: \t91 / 100\n",
            "Confirmed: \t24\n",
            "Tentative: \t3\n",
            "Rejected: \t4\n",
            "Iteration: \t92 / 100\n",
            "Confirmed: \t24\n",
            "Tentative: \t3\n",
            "Rejected: \t4\n",
            "Iteration: \t93 / 100\n",
            "Confirmed: \t24\n",
            "Tentative: \t3\n",
            "Rejected: \t4\n",
            "Iteration: \t94 / 100\n",
            "Confirmed: \t24\n",
            "Tentative: \t3\n",
            "Rejected: \t4\n",
            "Iteration: \t95 / 100\n",
            "Confirmed: \t24\n",
            "Tentative: \t3\n",
            "Rejected: \t4\n",
            "Iteration: \t96 / 100\n",
            "Confirmed: \t24\n",
            "Tentative: \t3\n",
            "Rejected: \t4\n",
            "Iteration: \t97 / 100\n",
            "Confirmed: \t24\n",
            "Tentative: \t3\n",
            "Rejected: \t4\n",
            "Iteration: \t98 / 100\n",
            "Confirmed: \t24\n",
            "Tentative: \t3\n",
            "Rejected: \t4\n",
            "Iteration: \t99 / 100\n",
            "Confirmed: \t24\n",
            "Tentative: \t3\n",
            "Rejected: \t4\n",
            "\n",
            "\n",
            "BorutaPy finished running.\n",
            "\n",
            "Iteration: \t100 / 100\n",
            "Confirmed: \t24\n",
            "Tentative: \t3\n",
            "Rejected: \t4\n"
          ],
          "name": "stdout"
        },
        {
          "output_type": "execute_result",
          "data": {
            "text/plain": [
              "BorutaPy(alpha=0.05,\n",
              "         estimator=RandomForestRegressor(bootstrap=True, ccp_alpha=0.0,\n",
              "                                         criterion='mse', max_depth=None,\n",
              "                                         max_features='auto',\n",
              "                                         max_leaf_nodes=None, max_samples=None,\n",
              "                                         min_impurity_decrease=0.0,\n",
              "                                         min_impurity_split=None,\n",
              "                                         min_samples_leaf=1,\n",
              "                                         min_samples_split=2,\n",
              "                                         min_weight_fraction_leaf=0.0,\n",
              "                                         n_estimators=73, n_jobs=None,\n",
              "                                         oob_score=False,\n",
              "                                         random_state=RandomState(MT19937) at 0x7FD1A6287888,\n",
              "                                         verbose=0, warm_start=False),\n",
              "         max_iter=100, n_estimators='auto', perc=100,\n",
              "         random_state=RandomState(MT19937) at 0x7FD1A6287888, two_step=True,\n",
              "         verbose=2)"
            ]
          },
          "metadata": {
            "tags": []
          },
          "execution_count": 134
        }
      ]
    },
    {
      "cell_type": "code",
      "metadata": {
        "id": "Y4V2iRBhvXh_"
      },
      "source": [
        "X_important_train = boruta_selector.transform(np.array(X_train))\n",
        "X_important_test = boruta_selector.transform(np.array(X_test))"
      ],
      "execution_count": null,
      "outputs": []
    },
    {
      "cell_type": "code",
      "metadata": {
        "colab": {
          "base_uri": "https://localhost:8080/"
        },
        "id": "OO5DA44-vZ8q",
        "outputId": "4bda68b9-00d4-40c9-9687-60a5e1c0ca05"
      },
      "source": [
        "# Create a new random forest classifier for the most important features\n",
        "rf_important = RandomForestRegressor(random_state=1, n_estimators=1000, n_jobs = -1)\n",
        "\n",
        "# Train the new classifier on the new dataset containing the most important features\n",
        "rf_important.fit(X_important_train, y_train)"
      ],
      "execution_count": null,
      "outputs": [
        {
          "output_type": "execute_result",
          "data": {
            "text/plain": [
              "RandomForestRegressor(bootstrap=True, ccp_alpha=0.0, criterion='mse',\n",
              "                      max_depth=None, max_features='auto', max_leaf_nodes=None,\n",
              "                      max_samples=None, min_impurity_decrease=0.0,\n",
              "                      min_impurity_split=None, min_samples_leaf=1,\n",
              "                      min_samples_split=2, min_weight_fraction_leaf=0.0,\n",
              "                      n_estimators=1000, n_jobs=-1, oob_score=False,\n",
              "                      random_state=1, verbose=0, warm_start=False)"
            ]
          },
          "metadata": {
            "tags": []
          },
          "execution_count": 136
        }
      ]
    },
    {
      "cell_type": "code",
      "metadata": {
        "colab": {
          "base_uri": "https://localhost:8080/"
        },
        "id": "GXSuft6AvuLv",
        "outputId": "5d1a5422-1011-4afd-bc04-156090777e1d"
      },
      "source": [
        "# Model evaluation for train set\n",
        "pred = rf_important.predict(X_important_train)\n",
        "mse = mean_squared_error(y_train, pred)\n",
        "rmse = (np.sqrt(mean_squared_error(y_train, pred)))\n",
        "r2 = r2_score(y_train, pred)\n",
        "print('MSE for test is {}'.format(mse))\n",
        "print('RMSE for test is {}'.format(rmse))\n",
        "print('R2 score for test is {}'.format(r2))"
      ],
      "execution_count": null,
      "outputs": [
        {
          "output_type": "stream",
          "text": [
            "MSE for test is 30.91873036865992\n",
            "RMSE for test is 5.5604613449479094\n",
            "R2 score for test is 0.9588060940314266\n"
          ],
          "name": "stdout"
        }
      ]
    },
    {
      "cell_type": "code",
      "metadata": {
        "colab": {
          "base_uri": "https://localhost:8080/"
        },
        "id": "6mj-DXAswCMn",
        "outputId": "cd350299-7171-4de9-a1f4-40500562d379"
      },
      "source": [
        "# Model evaluation for test set\n",
        "pred = rf_important.predict(X_important_test)\n",
        "mse = mean_squared_error(y_test, pred)\n",
        "rmse = (np.sqrt(mean_squared_error(y_test, pred)))\n",
        "r2 = r2_score(y_test, pred)\n",
        "print('MSE for test is {}'.format(mse))\n",
        "print('RMSE for test is {}'.format(rmse))\n",
        "print('R2 score for test is {}'.format(r2))"
      ],
      "execution_count": null,
      "outputs": [
        {
          "output_type": "stream",
          "text": [
            "MSE for test is 198.76580369489446\n",
            "RMSE for test is 14.098432668027126\n",
            "R2 score for test is 0.7505168974961962\n"
          ],
          "name": "stdout"
        }
      ]
    },
    {
      "cell_type": "code",
      "metadata": {
        "colab": {
          "base_uri": "https://localhost:8080/"
        },
        "id": "dewZPkE0we--",
        "outputId": "99693932-f82b-4b33-bb29-9f4540510815"
      },
      "source": [
        "print(\"No. of significant features: \", boruta_selector.n_features_)"
      ],
      "execution_count": null,
      "outputs": [
        {
          "output_type": "stream",
          "text": [
            "No. of significant features:  24\n"
          ],
          "name": "stdout"
        }
      ]
    },
    {
      "cell_type": "markdown",
      "metadata": {
        "id": "RjmLmsKDfZEm"
      },
      "source": [
        "The Boruta feature selection found 24 significant features. Using these features, our Random Forest Model gives us the best MSE, RMSE, and R2 scores so far. "
      ]
    },
    {
      "cell_type": "markdown",
      "metadata": {
        "id": "Px3-FQRzaWBe"
      },
      "source": [
        "That is the end of this assignment. We hope you learnt a lot along the way. \n",
        "Make sure you complete the other 2 parts (leaderboard submission and quiz) as well.\n",
        "\n",
        "Now, download this notebook and submit it on the platform: https://dphi.tech/practice/challenge/52#notebooks \n"
      ]
    },
    {
      "cell_type": "markdown",
      "metadata": {
        "id": "ju3UsZVJ0Pm4"
      },
      "source": [
        "## Task 6"
      ]
    },
    {
      "cell_type": "markdown",
      "metadata": {
        "id": "khBteGPu0ROp"
      },
      "source": [
        "### Load test data and display first 5 rows"
      ]
    },
    {
      "cell_type": "code",
      "metadata": {
        "id": "nvNAnghu0eAw",
        "colab": {
          "base_uri": "https://localhost:8080/",
          "height": 428
        },
        "outputId": "c9e25729-dba7-43a5-9d3c-deb51695f135"
      },
      "source": [
        "test_data = pd.read_csv('https://raw.githubusercontent.com/dphi-official/Datasets/master/cancer_death_rate/Testing_set_label.csv')\n",
        "test_data.head()"
      ],
      "execution_count": null,
      "outputs": [
        {
          "output_type": "execute_result",
          "data": {
            "text/html": [
              "<div>\n",
              "<style scoped>\n",
              "    .dataframe tbody tr th:only-of-type {\n",
              "        vertical-align: middle;\n",
              "    }\n",
              "\n",
              "    .dataframe tbody tr th {\n",
              "        vertical-align: top;\n",
              "    }\n",
              "\n",
              "    .dataframe thead th {\n",
              "        text-align: right;\n",
              "    }\n",
              "</style>\n",
              "<table border=\"1\" class=\"dataframe\">\n",
              "  <thead>\n",
              "    <tr style=\"text-align: right;\">\n",
              "      <th></th>\n",
              "      <th>avgAnnCount</th>\n",
              "      <th>avgDeathsPerYear</th>\n",
              "      <th>incidenceRate</th>\n",
              "      <th>medIncome</th>\n",
              "      <th>popEst2015</th>\n",
              "      <th>povertyPercent</th>\n",
              "      <th>studyPerCap</th>\n",
              "      <th>binnedInc</th>\n",
              "      <th>MedianAge</th>\n",
              "      <th>MedianAgeMale</th>\n",
              "      <th>MedianAgeFemale</th>\n",
              "      <th>Geography</th>\n",
              "      <th>AvgHouseholdSize</th>\n",
              "      <th>PercentMarried</th>\n",
              "      <th>PctNoHS18_24</th>\n",
              "      <th>PctHS18_24</th>\n",
              "      <th>PctSomeCol18_24</th>\n",
              "      <th>PctBachDeg18_24</th>\n",
              "      <th>PctHS25_Over</th>\n",
              "      <th>PctBachDeg25_Over</th>\n",
              "      <th>PctEmployed16_Over</th>\n",
              "      <th>PctUnemployed16_Over</th>\n",
              "      <th>PctPrivateCoverage</th>\n",
              "      <th>PctPrivateCoverageAlone</th>\n",
              "      <th>PctEmpPrivCoverage</th>\n",
              "      <th>PctPublicCoverage</th>\n",
              "      <th>PctPublicCoverageAlone</th>\n",
              "      <th>PctWhite</th>\n",
              "      <th>PctBlack</th>\n",
              "      <th>PctAsian</th>\n",
              "      <th>PctOtherRace</th>\n",
              "      <th>PctMarriedHouseholds</th>\n",
              "      <th>BirthRate</th>\n",
              "    </tr>\n",
              "  </thead>\n",
              "  <tbody>\n",
              "    <tr>\n",
              "      <th>0</th>\n",
              "      <td>2092.000000</td>\n",
              "      <td>763</td>\n",
              "      <td>341.000000</td>\n",
              "      <td>34368</td>\n",
              "      <td>842304</td>\n",
              "      <td>33.5</td>\n",
              "      <td>42.739913</td>\n",
              "      <td>(34218.1, 37413.8]</td>\n",
              "      <td>28.8</td>\n",
              "      <td>27.4</td>\n",
              "      <td>30.1</td>\n",
              "      <td>Hidalgo County, Texas</td>\n",
              "      <td>3.62</td>\n",
              "      <td>51.0</td>\n",
              "      <td>22.3</td>\n",
              "      <td>29.0</td>\n",
              "      <td>NaN</td>\n",
              "      <td>5.1</td>\n",
              "      <td>23.2</td>\n",
              "      <td>11.9</td>\n",
              "      <td>52.2</td>\n",
              "      <td>9.9</td>\n",
              "      <td>32.6</td>\n",
              "      <td>NaN</td>\n",
              "      <td>22.9</td>\n",
              "      <td>37.3</td>\n",
              "      <td>28.2</td>\n",
              "      <td>91.409724</td>\n",
              "      <td>0.620104</td>\n",
              "      <td>1.041848</td>\n",
              "      <td>5.804689</td>\n",
              "      <td>56.335344</td>\n",
              "      <td>6.825886</td>\n",
              "    </tr>\n",
              "    <tr>\n",
              "      <th>1</th>\n",
              "      <td>94.000000</td>\n",
              "      <td>41</td>\n",
              "      <td>445.200000</td>\n",
              "      <td>35615</td>\n",
              "      <td>16704</td>\n",
              "      <td>21.5</td>\n",
              "      <td>0.000000</td>\n",
              "      <td>(34218.1, 37413.8]</td>\n",
              "      <td>41.5</td>\n",
              "      <td>40.9</td>\n",
              "      <td>42.1</td>\n",
              "      <td>Barbour County, West Virginia</td>\n",
              "      <td>2.68</td>\n",
              "      <td>52.0</td>\n",
              "      <td>9.8</td>\n",
              "      <td>36.1</td>\n",
              "      <td>45.8</td>\n",
              "      <td>8.3</td>\n",
              "      <td>47.1</td>\n",
              "      <td>7.9</td>\n",
              "      <td>46.5</td>\n",
              "      <td>9.0</td>\n",
              "      <td>55.6</td>\n",
              "      <td>40.1</td>\n",
              "      <td>36.5</td>\n",
              "      <td>44.8</td>\n",
              "      <td>26.4</td>\n",
              "      <td>96.844181</td>\n",
              "      <td>0.836770</td>\n",
              "      <td>0.376547</td>\n",
              "      <td>0.029885</td>\n",
              "      <td>55.288859</td>\n",
              "      <td>2.292861</td>\n",
              "    </tr>\n",
              "    <tr>\n",
              "      <th>2</th>\n",
              "      <td>126.000000</td>\n",
              "      <td>43</td>\n",
              "      <td>425.700000</td>\n",
              "      <td>76672</td>\n",
              "      <td>32154</td>\n",
              "      <td>7.6</td>\n",
              "      <td>31.100330</td>\n",
              "      <td>(61494.5, 125635]</td>\n",
              "      <td>35.0</td>\n",
              "      <td>34.2</td>\n",
              "      <td>36.0</td>\n",
              "      <td>Stark County, North Dakota</td>\n",
              "      <td>2.44</td>\n",
              "      <td>55.8</td>\n",
              "      <td>13.0</td>\n",
              "      <td>26.8</td>\n",
              "      <td>NaN</td>\n",
              "      <td>10.0</td>\n",
              "      <td>30.5</td>\n",
              "      <td>17.5</td>\n",
              "      <td>71.4</td>\n",
              "      <td>2.8</td>\n",
              "      <td>83.3</td>\n",
              "      <td>68.0</td>\n",
              "      <td>55.9</td>\n",
              "      <td>19.6</td>\n",
              "      <td>5.9</td>\n",
              "      <td>92.626100</td>\n",
              "      <td>1.114294</td>\n",
              "      <td>1.257510</td>\n",
              "      <td>1.844348</td>\n",
              "      <td>52.614465</td>\n",
              "      <td>10.502567</td>\n",
              "    </tr>\n",
              "    <tr>\n",
              "      <th>3</th>\n",
              "      <td>1962.667684</td>\n",
              "      <td>16</td>\n",
              "      <td>453.549422</td>\n",
              "      <td>45856</td>\n",
              "      <td>5428</td>\n",
              "      <td>11.4</td>\n",
              "      <td>0.000000</td>\n",
              "      <td>(45201, 48021.6]</td>\n",
              "      <td>44.7</td>\n",
              "      <td>44.2</td>\n",
              "      <td>45.5</td>\n",
              "      <td>Phillips County, Kansas</td>\n",
              "      <td>2.29</td>\n",
              "      <td>60.5</td>\n",
              "      <td>33.2</td>\n",
              "      <td>13.9</td>\n",
              "      <td>45.3</td>\n",
              "      <td>7.6</td>\n",
              "      <td>35.3</td>\n",
              "      <td>15.5</td>\n",
              "      <td>63.1</td>\n",
              "      <td>4.3</td>\n",
              "      <td>75.8</td>\n",
              "      <td>55.3</td>\n",
              "      <td>44.5</td>\n",
              "      <td>33.4</td>\n",
              "      <td>15.5</td>\n",
              "      <td>96.855117</td>\n",
              "      <td>0.381749</td>\n",
              "      <td>0.181785</td>\n",
              "      <td>0.163607</td>\n",
              "      <td>55.044700</td>\n",
              "      <td>9.342231</td>\n",
              "    </tr>\n",
              "    <tr>\n",
              "      <th>4</th>\n",
              "      <td>1962.667684</td>\n",
              "      <td>4</td>\n",
              "      <td>453.549422</td>\n",
              "      <td>53739</td>\n",
              "      <td>1670</td>\n",
              "      <td>10.9</td>\n",
              "      <td>0.000000</td>\n",
              "      <td>(51046.4, 54545.6]</td>\n",
              "      <td>535.2</td>\n",
              "      <td>44.7</td>\n",
              "      <td>44.4</td>\n",
              "      <td>Lane County, Kansas</td>\n",
              "      <td>2.07</td>\n",
              "      <td>55.9</td>\n",
              "      <td>25.2</td>\n",
              "      <td>31.1</td>\n",
              "      <td>NaN</td>\n",
              "      <td>3.0</td>\n",
              "      <td>29.7</td>\n",
              "      <td>15.5</td>\n",
              "      <td>67.9</td>\n",
              "      <td>2.4</td>\n",
              "      <td>78.2</td>\n",
              "      <td>56.7</td>\n",
              "      <td>48.6</td>\n",
              "      <td>29.2</td>\n",
              "      <td>11.2</td>\n",
              "      <td>98.327360</td>\n",
              "      <td>0.358423</td>\n",
              "      <td>0.000000</td>\n",
              "      <td>0.000000</td>\n",
              "      <td>47.826087</td>\n",
              "      <td>10.029499</td>\n",
              "    </tr>\n",
              "  </tbody>\n",
              "</table>\n",
              "</div>"
            ],
            "text/plain": [
              "   avgAnnCount  avgDeathsPerYear  ...  PctMarriedHouseholds  BirthRate\n",
              "0  2092.000000               763  ...             56.335344   6.825886\n",
              "1    94.000000                41  ...             55.288859   2.292861\n",
              "2   126.000000                43  ...             52.614465  10.502567\n",
              "3  1962.667684                16  ...             55.044700   9.342231\n",
              "4  1962.667684                 4  ...             47.826087  10.029499\n",
              "\n",
              "[5 rows x 33 columns]"
            ]
          },
          "metadata": {
            "tags": []
          },
          "execution_count": 88
        }
      ]
    },
    {
      "cell_type": "code",
      "metadata": {
        "colab": {
          "base_uri": "https://localhost:8080/"
        },
        "id": "k1zH8c4wkZqU",
        "outputId": "1609e826-b5a8-411c-e7ac-342f3ec7b2f1"
      },
      "source": [
        "test_data.isnull().sum()"
      ],
      "execution_count": null,
      "outputs": [
        {
          "output_type": "execute_result",
          "data": {
            "text/plain": [
              "avgAnnCount                  0\n",
              "avgDeathsPerYear             0\n",
              "incidenceRate                0\n",
              "medIncome                    0\n",
              "popEst2015                   0\n",
              "povertyPercent               0\n",
              "studyPerCap                  0\n",
              "binnedInc                    0\n",
              "MedianAge                    0\n",
              "MedianAgeMale                0\n",
              "MedianAgeFemale              0\n",
              "Geography                    0\n",
              "AvgHouseholdSize             0\n",
              "PercentMarried               0\n",
              "PctNoHS18_24                 0\n",
              "PctHS18_24                   0\n",
              "PctSomeCol18_24            580\n",
              "PctBachDeg18_24              0\n",
              "PctHS25_Over                 0\n",
              "PctBachDeg25_Over            0\n",
              "PctEmployed16_Over          33\n",
              "PctUnemployed16_Over         0\n",
              "PctPrivateCoverage           0\n",
              "PctPrivateCoverageAlone    148\n",
              "PctEmpPrivCoverage           0\n",
              "PctPublicCoverage            0\n",
              "PctPublicCoverageAlone       0\n",
              "PctWhite                     0\n",
              "PctBlack                     0\n",
              "PctAsian                     0\n",
              "PctOtherRace                 0\n",
              "PctMarriedHouseholds         0\n",
              "BirthRate                    0\n",
              "dtype: int64"
            ]
          },
          "metadata": {
            "tags": []
          },
          "execution_count": 90
        }
      ]
    },
    {
      "cell_type": "markdown",
      "metadata": {
        "id": "iXlD8wd9lCdf"
      },
      "source": [
        "Remove non-numerical variables"
      ]
    },
    {
      "cell_type": "code",
      "metadata": {
        "id": "GQ6AGFZPkq8q"
      },
      "source": [
        "test_data=test_data.drop(['binnedInc', 'Geography'], axis=1)"
      ],
      "execution_count": null,
      "outputs": []
    },
    {
      "cell_type": "markdown",
      "metadata": {
        "id": "JufGCIuZlFnk"
      },
      "source": [
        "Fill missing values"
      ]
    },
    {
      "cell_type": "code",
      "metadata": {
        "id": "qdcAJKaqlIB3"
      },
      "source": [
        "test_data['PctSomeCol18_24']=test_data['PctSomeCol18_24'].fillna(test_data['PctSomeCol18_24'].mean())\n",
        "test_data['PctEmployed16_Over']=test_data['PctEmployed16_Over'].fillna(test_data['PctEmployed16_Over'].mean())\n",
        "test_data['PctPrivateCoverageAlone']=test_data['PctPrivateCoverageAlone'].fillna(test_data['PctPrivateCoverageAlone'].mean())"
      ],
      "execution_count": null,
      "outputs": []
    },
    {
      "cell_type": "code",
      "metadata": {
        "colab": {
          "base_uri": "https://localhost:8080/"
        },
        "id": "UF7z5wyNlPzK",
        "outputId": "228c0f2f-c3e8-425f-b674-1d56cbdce335"
      },
      "source": [
        "test_data.isnull().sum()"
      ],
      "execution_count": null,
      "outputs": [
        {
          "output_type": "execute_result",
          "data": {
            "text/plain": [
              "avgAnnCount                0\n",
              "avgDeathsPerYear           0\n",
              "incidenceRate              0\n",
              "medIncome                  0\n",
              "popEst2015                 0\n",
              "povertyPercent             0\n",
              "studyPerCap                0\n",
              "MedianAge                  0\n",
              "MedianAgeMale              0\n",
              "MedianAgeFemale            0\n",
              "AvgHouseholdSize           0\n",
              "PercentMarried             0\n",
              "PctNoHS18_24               0\n",
              "PctHS18_24                 0\n",
              "PctSomeCol18_24            0\n",
              "PctBachDeg18_24            0\n",
              "PctHS25_Over               0\n",
              "PctBachDeg25_Over          0\n",
              "PctEmployed16_Over         0\n",
              "PctUnemployed16_Over       0\n",
              "PctPrivateCoverage         0\n",
              "PctPrivateCoverageAlone    0\n",
              "PctEmpPrivCoverage         0\n",
              "PctPublicCoverage          0\n",
              "PctPublicCoverageAlone     0\n",
              "PctWhite                   0\n",
              "PctBlack                   0\n",
              "PctAsian                   0\n",
              "PctOtherRace               0\n",
              "PctMarriedHouseholds       0\n",
              "BirthRate                  0\n",
              "dtype: int64"
            ]
          },
          "metadata": {
            "tags": []
          },
          "execution_count": 95
        }
      ]
    },
    {
      "cell_type": "code",
      "metadata": {
        "colab": {
          "base_uri": "https://localhost:8080/"
        },
        "id": "TJEgMYO1tq6j",
        "outputId": "65cbede1-9eae-4f42-cc4b-c3ce44227b76"
      },
      "source": [
        "test_data.info()"
      ],
      "execution_count": null,
      "outputs": [
        {
          "output_type": "stream",
          "text": [
            "<class 'pandas.core.frame.DataFrame'>\n",
            "RangeIndex: 762 entries, 0 to 761\n",
            "Data columns (total 31 columns):\n",
            " #   Column                   Non-Null Count  Dtype  \n",
            "---  ------                   --------------  -----  \n",
            " 0   avgAnnCount              762 non-null    float64\n",
            " 1   avgDeathsPerYear         762 non-null    int64  \n",
            " 2   incidenceRate            762 non-null    float64\n",
            " 3   medIncome                762 non-null    int64  \n",
            " 4   popEst2015               762 non-null    int64  \n",
            " 5   povertyPercent           762 non-null    float64\n",
            " 6   studyPerCap              762 non-null    float64\n",
            " 7   MedianAge                762 non-null    float64\n",
            " 8   MedianAgeMale            762 non-null    float64\n",
            " 9   MedianAgeFemale          762 non-null    float64\n",
            " 10  AvgHouseholdSize         762 non-null    float64\n",
            " 11  PercentMarried           762 non-null    float64\n",
            " 12  PctNoHS18_24             762 non-null    float64\n",
            " 13  PctHS18_24               762 non-null    float64\n",
            " 14  PctSomeCol18_24          762 non-null    float64\n",
            " 15  PctBachDeg18_24          762 non-null    float64\n",
            " 16  PctHS25_Over             762 non-null    float64\n",
            " 17  PctBachDeg25_Over        762 non-null    float64\n",
            " 18  PctEmployed16_Over       762 non-null    float64\n",
            " 19  PctUnemployed16_Over     762 non-null    float64\n",
            " 20  PctPrivateCoverage       762 non-null    float64\n",
            " 21  PctPrivateCoverageAlone  762 non-null    float64\n",
            " 22  PctEmpPrivCoverage       762 non-null    float64\n",
            " 23  PctPublicCoverage        762 non-null    float64\n",
            " 24  PctPublicCoverageAlone   762 non-null    float64\n",
            " 25  PctWhite                 762 non-null    float64\n",
            " 26  PctBlack                 762 non-null    float64\n",
            " 27  PctAsian                 762 non-null    float64\n",
            " 28  PctOtherRace             762 non-null    float64\n",
            " 29  PctMarriedHouseholds     762 non-null    float64\n",
            " 30  BirthRate                762 non-null    float64\n",
            "dtypes: float64(28), int64(3)\n",
            "memory usage: 184.7 KB\n"
          ],
          "name": "stdout"
        }
      ]
    },
    {
      "cell_type": "code",
      "metadata": {
        "colab": {
          "base_uri": "https://localhost:8080/"
        },
        "id": "N8ppzp3ottV4",
        "outputId": "39a19a6b-37d1-46a6-e56f-695f4a3131e4"
      },
      "source": [
        "cancer_data.duplicated().sum()"
      ],
      "execution_count": null,
      "outputs": [
        {
          "output_type": "execute_result",
          "data": {
            "text/plain": [
              "0"
            ]
          },
          "metadata": {
            "tags": []
          },
          "execution_count": 115
        }
      ]
    },
    {
      "cell_type": "markdown",
      "metadata": {
        "id": "WJo3EQsStvDU"
      },
      "source": [
        "No duplicates to remove."
      ]
    },
    {
      "cell_type": "markdown",
      "metadata": {
        "id": "K3208BCO0ed5"
      },
      "source": [
        "### Run model with test data"
      ]
    },
    {
      "cell_type": "markdown",
      "metadata": {
        "id": "1LkUIlj6yZ2V"
      },
      "source": [
        "Use Boruta model because it gave us the best results."
      ]
    },
    {
      "cell_type": "code",
      "metadata": {
        "id": "kTPKNhiIxLUm"
      },
      "source": [
        "X_important = boruta_selector.transform(np.array(X))"
      ],
      "execution_count": null,
      "outputs": []
    },
    {
      "cell_type": "code",
      "metadata": {
        "id": "OejAQq6J0i_0",
        "colab": {
          "base_uri": "https://localhost:8080/"
        },
        "outputId": "95f588eb-f8e2-4e4b-af1f-c9b7f8562cd5"
      },
      "source": [
        "RForest = RandomForestRegressor()   \n",
        "RForest.fit(X_important,y)"
      ],
      "execution_count": null,
      "outputs": [
        {
          "output_type": "execute_result",
          "data": {
            "text/plain": [
              "RandomForestRegressor(bootstrap=True, ccp_alpha=0.0, criterion='mse',\n",
              "                      max_depth=None, max_features='auto', max_leaf_nodes=None,\n",
              "                      max_samples=None, min_impurity_decrease=0.0,\n",
              "                      min_impurity_split=None, min_samples_leaf=1,\n",
              "                      min_samples_split=2, min_weight_fraction_leaf=0.0,\n",
              "                      n_estimators=100, n_jobs=None, oob_score=False,\n",
              "                      random_state=None, verbose=0, warm_start=False)"
            ]
          },
          "metadata": {
            "tags": []
          },
          "execution_count": 143
        }
      ]
    },
    {
      "cell_type": "code",
      "metadata": {
        "id": "e6ezNPdOmIYR"
      },
      "source": [
        "target = RForest.predict(boruta_selector.transform(np.array(test_data)))"
      ],
      "execution_count": null,
      "outputs": []
    },
    {
      "cell_type": "markdown",
      "metadata": {
        "id": "n4zKK0sP0jQO"
      },
      "source": [
        "### Save prediction file"
      ]
    },
    {
      "cell_type": "code",
      "metadata": {
        "id": "Jkv2i-pW0m04",
        "colab": {
          "base_uri": "https://localhost:8080/",
          "height": 17
        },
        "outputId": "7b0c45be-bc88-4541-88f9-1c37069d0da6"
      },
      "source": [
        "# To create Dataframe of predicted value with particular respective index\n",
        "res = pd.DataFrame(target) #target is nothing but the final predictions of your model on input features of your new unseen test data\n",
        "#res.index = test_data.index # its important for comparison. Here \"test_data\" is your new test dataset\n",
        "res.columns = [\"prediction\"]\n",
        "\n",
        "# To download the csv file locally\n",
        "from google.colab import files\n",
        "# res.to_csv('prediction_results.csv', inplace = False)\n",
        "res.to_csv('prediction_results2.csv')         \n",
        "files.download('prediction_results2.csv')"
      ],
      "execution_count": null,
      "outputs": [
        {
          "output_type": "display_data",
          "data": {
            "application/javascript": [
              "\n",
              "    async function download(id, filename, size) {\n",
              "      if (!google.colab.kernel.accessAllowed) {\n",
              "        return;\n",
              "      }\n",
              "      const div = document.createElement('div');\n",
              "      const label = document.createElement('label');\n",
              "      label.textContent = `Downloading \"${filename}\": `;\n",
              "      div.appendChild(label);\n",
              "      const progress = document.createElement('progress');\n",
              "      progress.max = size;\n",
              "      div.appendChild(progress);\n",
              "      document.body.appendChild(div);\n",
              "\n",
              "      const buffers = [];\n",
              "      let downloaded = 0;\n",
              "\n",
              "      const channel = await google.colab.kernel.comms.open(id);\n",
              "      // Send a message to notify the kernel that we're ready.\n",
              "      channel.send({})\n",
              "\n",
              "      for await (const message of channel.messages) {\n",
              "        // Send a message to notify the kernel that we're ready.\n",
              "        channel.send({})\n",
              "        if (message.buffers) {\n",
              "          for (const buffer of message.buffers) {\n",
              "            buffers.push(buffer);\n",
              "            downloaded += buffer.byteLength;\n",
              "            progress.value = downloaded;\n",
              "          }\n",
              "        }\n",
              "      }\n",
              "      const blob = new Blob(buffers, {type: 'application/binary'});\n",
              "      const a = document.createElement('a');\n",
              "      a.href = window.URL.createObjectURL(blob);\n",
              "      a.download = filename;\n",
              "      div.appendChild(a);\n",
              "      a.click();\n",
              "      div.remove();\n",
              "    }\n",
              "  "
            ],
            "text/plain": [
              "<IPython.core.display.Javascript object>"
            ]
          },
          "metadata": {
            "tags": []
          }
        },
        {
          "output_type": "display_data",
          "data": {
            "application/javascript": [
              "download(\"download_9e3bb881-983c-43b8-b75f-7c18aec89a92\", \"prediction_results2.csv\", 15608)"
            ],
            "text/plain": [
              "<IPython.core.display.Javascript object>"
            ]
          },
          "metadata": {
            "tags": []
          }
        }
      ]
    }
  ]
}